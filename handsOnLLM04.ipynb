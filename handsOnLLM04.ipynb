{
 "cells": [
  {
   "cell_type": "markdown",
   "metadata": {
    "colab_type": "text",
    "id": "view-in-github"
   },
   "source": [
    "<a href=\"https://colab.research.google.com/github/LeeSeungYun1020/HandsOnLargeLanguageModels/blob/main/handsOnLLM04.ipynb\" target=\"_parent\"><img src=\"https://colab.research.google.com/assets/colab-badge.svg\" alt=\"Open In Colab\"/></a>"
   ]
  },
  {
   "cell_type": "markdown",
   "metadata": {
    "id": "LeAOTzlJBlmd"
   },
   "source": [
    "# 텍스트 분류\n",
    "\n",
    "- 핸즈온 LLM 4장\n",
    "- 모델을 훈련하여 입력 텍스트에 레이블 또는 클래스를 할당\n",
    "- 감성 분석, 의도 감지, 엔티티 추출, 언어 감지에 사용\n",
    "- 생각보다 간단하지 않으며, 창의적인 기법이 매우 많음"
   ]
  },
  {
   "cell_type": "markdown",
   "metadata": {
    "id": "pnZblrhcB3gb"
   },
   "source": [
    "## 영화 리뷰 데이터셋\n",
    "\n",
    "- 테스트해 볼 텍스트는 로튼 토마토 데이터셋!\n",
    "\t- 이진 감성 분류 작업\n",
    "\t- 긍정, 부정 영화 리뷰 데이터 각 5331개\n",
    "\t- 훈련 데이터와 검증 데이터로 구성"
   ]
  },
  {
   "cell_type": "code",
   "execution_count": 1,
   "metadata": {
    "colab": {
     "base_uri": "https://localhost:8080/",
     "height": 484,
     "referenced_widgets": [
      "3e1882772b084f278b52ad87db407936",
      "7a1bb0af95314054a78b8c394eb1e5de",
      "5c8ba05767894acc931097a0b279e800",
      "94b7ba5be5d04c56802c279d6ff2a3a8",
      "7a5cbc4b6b6f47d1ae446b9dc76bb613",
      "3dd901ebb199453b91492c32daf6c594",
      "dc807135d51b4e3d8b786b8dbc9d24a4",
      "f777aa7576f84de585545a19c546194c",
      "21fd3fe14da0447681ceeedb51423935",
      "57974f222ffa4e97a6674e9b09b1de91",
      "a3bd6ae8cdf54b83a2cbcf2b2b7c0a47",
      "8d1423f14c8544058a551308ca7f49a3",
      "5dfb1fecffbb4cf381fa2bffa192d3e7",
      "47e51652511d4ac3ac8c4a2981ea0f11",
      "7415ea659ace4df6ab36babcedfb3dfc",
      "8e06bd0d4ea94e6591dc54a94995ec72",
      "e0793e7b2f1f49398923ab52ed59390c",
      "afbd89f8d55b459db335c21be479a05f",
      "582bd09dc6cb4392bc8be371e5abc085",
      "415bdfa104bf4c9ebecbfb3dc61c5083",
      "0fbfaf5859f949a7a461e5eb27e5b048",
      "5368ffce31884d9d92ab604a889c5a17",
      "221035cad1ba4e85be4c9fd708385f7d",
      "1d1bb531195547ee842befa974d15365",
      "bb0545f7f5094cd6b7302176d14e2ff7",
      "c46bf2964388461ea6074b298619ebb4",
      "60077d8a34904c36aa939d0eb78744dc",
      "49e51781cc094c40985d811bec77ff93",
      "7740a796baf7485b9329baf070f4d464",
      "aed68515d5d9458392814a3154432b33",
      "3379e57620e84cfaad57da4ae88e97c2",
      "e994acdbbb0c4f46b5b181c66ce533c5",
      "cfee6a93d8ef44afb0832bb35384bfcf",
      "658f496c415042cd8a35f6956c0cbef4",
      "f411dccdd0f940848e4bef9a62115591",
      "088b014da4bb40bb8e2d56b5bde409d0",
      "acdcbad2428245fa95260d1ebc7e2b4b",
      "1603fb5e410f4aa688f8e9911a92b546",
      "edefa7a486294dffad3e5d9eeaf58d97",
      "7a2c9fd1cf7d449d8541604224769518",
      "7b348b8acb514d6fb7a584737246bc74",
      "e29f3330e0cd4c6484996a8839a7506d",
      "894ddbb1031a49f18692d7a7c28f2748",
      "65039145029448ce9f60f44b1508a575",
      "85c1184b2cfe4b88ad2f2c2e2615831b",
      "0032f521d4e945c0bd1ff721d8f77a7a",
      "59a9db7abbf549ad811d6347b3161f57",
      "8890e40d99c843b48006da9bedfd37db",
      "7266aa7bdb144b2492b8275f6e176feb",
      "8c78d5ab4a5548bebf0ebba409ebda46",
      "5df184ce93e24fcebb7e8a71c53128df",
      "b446f119df15420fb6d325c1d4983993",
      "9070740627104a8f82c3a14dae920833",
      "73a981ccc0394a24a290791cf942d50d",
      "61bab2fdc9eb4f5f967744fe63d515ad",
      "6dc38f20dfc9492ea98ed9b99bfcbac7",
      "bd9caa65d8a94c78bf1ce67e6f7089ed",
      "6146e055db6a430d8f543a8cba052e12",
      "a533fc3b7edf4b05bfa38cc39b7bca41",
      "532e9d3c7c1d4d8a9228bd99d91b5500",
      "02f724197e53424d9a77b589a1b3a837",
      "d92422fc51854049b73f63027c7d6859",
      "4a92d03adc404e16bbc5aefe344e6116",
      "dd2d8d69215a435cb804aaf56e8653d6",
      "7a279a17d57a4f0fa8b728a717a3f99a",
      "cae2a2a1b0a04eb89c9b973376cf3887",
      "52e4e7e6fbfe4adaaeb851d2b935a047",
      "e58fbe0967594bcc80e7c8b649b3c21b",
      "a20acf7bb6404cfab91c0b195292cb7f",
      "179941d1085b46a6b2cfbd55563618bc",
      "ed25f3d692db49818ac7cc68f871501b",
      "8f113b4646ae4ea58c6112211d3140fe",
      "6cfc527321aa48ff84827e70fcde7d23",
      "7b43b74aea414c579793973ed129bfd0",
      "198cf51079844ef486a35b3873cb3100",
      "48c90f087a0d45d891615416b87d5fee",
      "0b684cbc44b44270a42a91d4199310bb"
     ]
    },
    "id": "BYIFOE_eB26e",
    "outputId": "5809c70e-e24d-4c1e-9e7e-62105e90f5cb"
   },
   "outputs": [
    {
     "data": {
      "application/vnd.jupyter.widget-view+json": {
       "model_id": "3e1882772b084f278b52ad87db407936",
       "version_major": 2,
       "version_minor": 0
      },
      "text/plain": [
       "README.md: 0.00B [00:00, ?B/s]"
      ]
     },
     "metadata": {},
     "output_type": "display_data"
    },
    {
     "data": {
      "application/vnd.jupyter.widget-view+json": {
       "model_id": "8d1423f14c8544058a551308ca7f49a3",
       "version_major": 2,
       "version_minor": 0
      },
      "text/plain": [
       "train.parquet:   0%|          | 0.00/699k [00:00<?, ?B/s]"
      ]
     },
     "metadata": {},
     "output_type": "display_data"
    },
    {
     "data": {
      "application/vnd.jupyter.widget-view+json": {
       "model_id": "221035cad1ba4e85be4c9fd708385f7d",
       "version_major": 2,
       "version_minor": 0
      },
      "text/plain": [
       "validation.parquet:   0%|          | 0.00/90.0k [00:00<?, ?B/s]"
      ]
     },
     "metadata": {},
     "output_type": "display_data"
    },
    {
     "data": {
      "application/vnd.jupyter.widget-view+json": {
       "model_id": "658f496c415042cd8a35f6956c0cbef4",
       "version_major": 2,
       "version_minor": 0
      },
      "text/plain": [
       "test.parquet:   0%|          | 0.00/92.2k [00:00<?, ?B/s]"
      ]
     },
     "metadata": {},
     "output_type": "display_data"
    },
    {
     "data": {
      "application/vnd.jupyter.widget-view+json": {
       "model_id": "85c1184b2cfe4b88ad2f2c2e2615831b",
       "version_major": 2,
       "version_minor": 0
      },
      "text/plain": [
       "Generating train split:   0%|          | 0/8530 [00:00<?, ? examples/s]"
      ]
     },
     "metadata": {},
     "output_type": "display_data"
    },
    {
     "data": {
      "application/vnd.jupyter.widget-view+json": {
       "model_id": "6dc38f20dfc9492ea98ed9b99bfcbac7",
       "version_major": 2,
       "version_minor": 0
      },
      "text/plain": [
       "Generating validation split:   0%|          | 0/1066 [00:00<?, ? examples/s]"
      ]
     },
     "metadata": {},
     "output_type": "display_data"
    },
    {
     "data": {
      "application/vnd.jupyter.widget-view+json": {
       "model_id": "52e4e7e6fbfe4adaaeb851d2b935a047",
       "version_major": 2,
       "version_minor": 0
      },
      "text/plain": [
       "Generating test split:   0%|          | 0/1066 [00:00<?, ? examples/s]"
      ]
     },
     "metadata": {},
     "output_type": "display_data"
    },
    {
     "data": {
      "text/plain": [
       "DatasetDict({\n",
       "    train: Dataset({\n",
       "        features: ['text', 'label'],\n",
       "        num_rows: 8530\n",
       "    })\n",
       "    validation: Dataset({\n",
       "        features: ['text', 'label'],\n",
       "        num_rows: 1066\n",
       "    })\n",
       "    test: Dataset({\n",
       "        features: ['text', 'label'],\n",
       "        num_rows: 1066\n",
       "    })\n",
       "})"
      ]
     },
     "execution_count": 1,
     "metadata": {},
     "output_type": "execute_result"
    }
   ],
   "source": [
    "from datasets import load_dataset\n",
    "\n",
    "data = load_dataset(\"rotten_tomatoes\")\n",
    "data"
   ]
  },
  {
   "cell_type": "code",
   "execution_count": 3,
   "metadata": {
    "colab": {
     "base_uri": "https://localhost:8080/"
    },
    "id": "f3lN6Oqb-Nos",
    "outputId": "7886cd6d-42ee-41a7-837c-b9a15b630bcd"
   },
   "outputs": [
    {
     "data": {
      "text/plain": [
       "{'text': ['the rock is destined to be the 21st century\\'s new \" conan \" and that he\\'s going to make a splash even greater than arnold schwarzenegger , jean-claud van damme or steven segal .',\n",
       "  'things really get weird , though not particularly scary : the movie is all portent and no content .'],\n",
       " 'label': [1, 0]}"
      ]
     },
     "execution_count": 3,
     "metadata": {},
     "output_type": "execute_result"
    }
   ],
   "source": [
    "data['train'][0, -1]"
   ]
  },
  {
   "cell_type": "markdown",
   "metadata": {
    "id": "f5HCP3qkCP4k"
   },
   "source": [
    "## 표현 모델로 텍스트 분류\n",
    "\n",
    "- 표현 모델은 텍스트를 잘 나타내는 카테고리를 바로 반환\n",
    "- 생성 모델은 프롬프트를 통해 분류하도록 지시하면 출력으로 설명을 생성\n",
    "\n",
    "- BERT 같은 파운데이션 모델을 훈련하여 미세 튜닝 -> 11장\n",
    "- 임베딩 모델은 범용 목적의 임베딩 생성하므로 분류에 국한되지 않고 다양한 작업에 사용될 수 있음 -> 10장\n",
    "- 여기에서는 두 모델을 직접 훈련하지 않고 사전 훈련된 모델을 사용하여 분류 진행"
   ]
  },
  {
   "cell_type": "markdown",
   "metadata": {
    "id": "OzOvgw4OCSKI"
   },
   "source": [
    "## 모델 선택\n",
    "\n",
    "- 언어 호환성, 내부 구조, 크기, 성능을 고려하여 선택\n",
    "- 인코더 기반 모델은 특정 작업에서 작은 크기로 뛰어난 성능을 냄(효율적, 생성 모델이 더 뛰어난 성능을 낼 수도 있음)\n",
    "- BERT, RoBERTa, DistilBERT, DeBERTa, bert-tiny, ALBERT V2 등"
   ]
  },
  {
   "cell_type": "markdown",
   "metadata": {
    "id": "h68nKgrFCUO1"
   },
   "source": [
    "## 작업에 특화된 모델 사용하기\n",
    "\n",
    "1. Twitter-RoBERTa-base 모델\n",
    "2. distilbert-base-uncased-finetuned-sst-2-english 모델"
   ]
  },
  {
   "cell_type": "code",
   "execution_count": 4,
   "metadata": {
    "colab": {
     "base_uri": "https://localhost:8080/",
     "height": 333,
     "referenced_widgets": [
      "46b047dd5fa64e179b6684e77f5542db",
      "36efdeca59fc471fb6c145b6882a74be",
      "b2e814057fd04f4aa359938134f5935a",
      "c93db8337e754f4a956c63062fcd640e",
      "9b821d83b43b4d038bd6b6e62a5d3636",
      "ab993a234fe84b07bd3e8f9b672da9a6",
      "fd8a5020bca74ef984cc69d4a9f64065",
      "19993515063e4df4bd6aaebfd1828bee",
      "d62e8441fd6945b58d7fd2647002d5c2",
      "334e9677661f44a38e0ab2997d54ccd6",
      "15af7c5797ff4aa7b858328418c32a14",
      "fa189b43b8cc45868e96d80c7d89ba8c",
      "a64c9568a4c44faeb00f4850f8a33058",
      "80c37f6d3f82475e90589f5fc359d024",
      "e1e75a1010e24a8bae4f3ccf4eba6ef4",
      "071a07c1115849dd88cd4d802e782cf6",
      "0b204eb72f5a45d0a9ca03cfff16a571",
      "d29a7612d3484152bfe25c3d05f499d4",
      "fa6e93b376dc4658846b46f0ceadeef1",
      "fc324901deea497db38a7609ec97ec86",
      "879a448f583d42a182494c831b42882d",
      "e02c4e8ee94549f5a36e2d5274373169",
      "f22b76f6f5914c1c969016a848ade61c",
      "9e052f8130d8401e94532228a3555589",
      "2f36a965057c49718e8aebed9bc30ab5",
      "7ef4d079b9fc462bbfdb24eab366cb99",
      "e36550ce9fe14467a616a18dc207ac0e",
      "3b80f9e078894ac69d6d0b35fa8f6e0a",
      "a1020959aedb48a7850fc9b0324aacca",
      "8d2194917454483e970b08fc07430cc4",
      "4a308c6017bb4b10b6e2bc4f87a50fa3",
      "1c49736ff26d41759f6d6a1e25596bcc",
      "30b2ae75a4804e0b8948b0d00f39df40",
      "7f984a768f6b4948b2114833066655cd",
      "9219103dfa674bbd8714f470f5ba8dcf",
      "d4b38bdd30e3401a94892a46907e528e",
      "1d7f320d44fd486d86a75f02b864e3f5",
      "e5fd53cbaef74e4b95541b89afeb8f63",
      "3012eee4595947498a22b799a165cf31",
      "36006d75d1bf4a98bee1beae75f3bde9",
      "e459657b6b0e49c9bd43d4c0c7ebe00b",
      "f76c0ce42b5d426bbf883c664327527e",
      "5bb4a761ef07465f90066f7d7c6b392d",
      "3e3b2a7fcf5842728c7e0de0e7084cec",
      "ee43bbdc94374e659345046a0c3b5494",
      "d6cba7d5535c44cf88dbb6f69e74046f",
      "7493777d97f64390a11f632d1b0f3e26",
      "390f3d74f90448bc8840127ca0508c09",
      "63444ba9ec294cc49adf59dcaa5c23a3",
      "0dedfe19e330455c9d41d25454422f32",
      "1047c637839e4f7cadd82ba45172afad",
      "8b5eac63b2ee4858818ebf7fd6bfd03b",
      "77234dac1f8c42428bcfa71f209281cf",
      "2e6c29422b204468a6358ac9ef8c07ef",
      "3f08a6e25d40478697ff17537aacd737",
      "42de9e31c63240999fc4ea877099abc2",
      "4003236fa633478cbb8c1fc8abb56305",
      "36ee89ed090943af8860cf7d47e8a7b6",
      "351dc83a1fdb4059b768af39f27329b2",
      "f81e22e98d4e4a648c4b21eca6fae0cc",
      "972c43698eea468fbc3f816b67615e55",
      "5a91c5d85996434d896074edb4fd72b0",
      "ee42544364914f588b9486d63ee15d4c",
      "bec1abf7ebb44abfa506fc8d8c6db9ce",
      "7922b80c008b45389eb62b646a9b9dd2",
      "1d03819699b1417ea5f244c66d6c54be"
     ]
    },
    "id": "g_DsXvQZCWL9",
    "outputId": "f122b7d7-48e0-446c-8950-ffb6901bb609"
   },
   "outputs": [
    {
     "data": {
      "application/vnd.jupyter.widget-view+json": {
       "model_id": "46b047dd5fa64e179b6684e77f5542db",
       "version_major": 2,
       "version_minor": 0
      },
      "text/plain": [
       "config.json:   0%|          | 0.00/929 [00:00<?, ?B/s]"
      ]
     },
     "metadata": {},
     "output_type": "display_data"
    },
    {
     "data": {
      "application/vnd.jupyter.widget-view+json": {
       "model_id": "fa189b43b8cc45868e96d80c7d89ba8c",
       "version_major": 2,
       "version_minor": 0
      },
      "text/plain": [
       "pytorch_model.bin:   0%|          | 0.00/501M [00:00<?, ?B/s]"
      ]
     },
     "metadata": {},
     "output_type": "display_data"
    },
    {
     "name": "stderr",
     "output_type": "stream",
     "text": [
      "Some weights of the model checkpoint at cardiffnlp/twitter-roberta-base-sentiment-latest were not used when initializing RobertaForSequenceClassification: ['roberta.pooler.dense.bias', 'roberta.pooler.dense.weight']\n",
      "- This IS expected if you are initializing RobertaForSequenceClassification from the checkpoint of a model trained on another task or with another architecture (e.g. initializing a BertForSequenceClassification model from a BertForPreTraining model).\n",
      "- This IS NOT expected if you are initializing RobertaForSequenceClassification from the checkpoint of a model that you expect to be exactly identical (initializing a BertForSequenceClassification model from a BertForSequenceClassification model).\n"
     ]
    },
    {
     "data": {
      "application/vnd.jupyter.widget-view+json": {
       "model_id": "f22b76f6f5914c1c969016a848ade61c",
       "version_major": 2,
       "version_minor": 0
      },
      "text/plain": [
       "model.safetensors:   0%|          | 0.00/501M [00:00<?, ?B/s]"
      ]
     },
     "metadata": {},
     "output_type": "display_data"
    },
    {
     "data": {
      "application/vnd.jupyter.widget-view+json": {
       "model_id": "7f984a768f6b4948b2114833066655cd",
       "version_major": 2,
       "version_minor": 0
      },
      "text/plain": [
       "vocab.json: 0.00B [00:00, ?B/s]"
      ]
     },
     "metadata": {},
     "output_type": "display_data"
    },
    {
     "data": {
      "application/vnd.jupyter.widget-view+json": {
       "model_id": "ee43bbdc94374e659345046a0c3b5494",
       "version_major": 2,
       "version_minor": 0
      },
      "text/plain": [
       "merges.txt: 0.00B [00:00, ?B/s]"
      ]
     },
     "metadata": {},
     "output_type": "display_data"
    },
    {
     "data": {
      "application/vnd.jupyter.widget-view+json": {
       "model_id": "42de9e31c63240999fc4ea877099abc2",
       "version_major": 2,
       "version_minor": 0
      },
      "text/plain": [
       "special_tokens_map.json:   0%|          | 0.00/239 [00:00<?, ?B/s]"
      ]
     },
     "metadata": {},
     "output_type": "display_data"
    },
    {
     "name": "stderr",
     "output_type": "stream",
     "text": [
      "Device set to use cuda:0\n",
      "/usr/local/lib/python3.11/dist-packages/transformers/pipelines/text_classification.py:111: UserWarning: `return_all_scores` is now deprecated,  if want a similar functionality use `top_k=None` instead of `return_all_scores=True` or `top_k=1` instead of `return_all_scores=False`.\n",
      "  warnings.warn(\n"
     ]
    }
   ],
   "source": [
    "from transformers import pipeline\n",
    "\n",
    "model_path = \"cardiffnlp/twitter-roberta-base-sentiment-latest\"\n",
    "\n",
    "pipe = pipeline(\n",
    "    model=model_path,\n",
    "    tokenizer=model_path,\n",
    "    return_all_scores=True,\n",
    "    device=\"cuda:0\"\n",
    ")"
   ]
  },
  {
   "cell_type": "code",
   "execution_count": 5,
   "metadata": {
    "colab": {
     "base_uri": "https://localhost:8080/",
     "height": 1000
    },
    "id": "S9NdoePwCYSR",
    "outputId": "7eed5edb-ee32-403e-f662-829b18946cc9"
   },
   "outputs": [
    {
     "name": "stderr",
     "output_type": "stream",
     "text": [
      "\n",
      "  0%|          | 0/1066 [00:00<?, ?it/s]\u001b[A\n",
      "  0%|          | 1/1066 [00:01<30:57,  1.74s/it]\u001b[A\n",
      "  0%|          | 5/1066 [00:01<05:00,  3.53it/s]\u001b[A\n",
      "  1%|          | 9/1066 [00:01<02:31,  6.99it/s]\u001b[A\n",
      "  1%|          | 13/1066 [00:02<01:37, 10.82it/s]\u001b[A\n",
      "  2%|▏         | 19/1066 [00:02<00:58, 17.81it/s]\u001b[A\n",
      "  2%|▏         | 26/1066 [00:02<00:39, 26.15it/s]\u001b[A\n",
      "  3%|▎         | 32/1066 [00:02<00:31, 32.38it/s]\u001b[A\n",
      "  4%|▎         | 38/1066 [00:02<00:27, 37.89it/s]\u001b[A\n",
      "  4%|▍         | 44/1066 [00:02<00:30, 33.49it/s]\u001b[A\n",
      "  5%|▍         | 49/1066 [00:02<00:31, 32.61it/s]\u001b[A\n",
      "  5%|▌         | 54/1066 [00:03<00:29, 33.88it/s]\u001b[A\n",
      "  6%|▌         | 60/1066 [00:03<00:27, 36.59it/s]\u001b[A\n",
      "  6%|▌         | 65/1066 [00:03<00:28, 35.62it/s]\u001b[A\n",
      "  7%|▋         | 70/1066 [00:03<00:26, 38.09it/s]\u001b[A\n",
      "  7%|▋         | 75/1066 [00:03<00:27, 35.92it/s]\u001b[A\n",
      "  7%|▋         | 79/1066 [00:03<00:27, 35.42it/s]\u001b[A\n",
      "  8%|▊         | 83/1066 [00:03<00:28, 34.33it/s]\u001b[A\n",
      "  8%|▊         | 87/1066 [00:04<00:33, 29.25it/s]\u001b[A\n",
      "  9%|▊         | 91/1066 [00:04<00:34, 27.99it/s]\u001b[A\n",
      "  9%|▉         | 94/1066 [00:04<00:36, 26.44it/s]\u001b[A\n",
      "  9%|▉         | 98/1066 [00:04<00:33, 28.87it/s]\u001b[A\n",
      "  9%|▉         | 101/1066 [00:04<00:35, 26.88it/s]\u001b[A\n",
      " 10%|▉         | 104/1066 [00:04<00:35, 27.07it/s]\u001b[A\n",
      " 10%|█         | 107/1066 [00:04<00:37, 25.45it/s]\u001b[A\n",
      " 10%|█         | 110/1066 [00:05<00:49, 19.17it/s]\u001b[A\n",
      " 11%|█         | 113/1066 [00:05<00:54, 17.33it/s]\u001b[A\n",
      " 11%|█         | 115/1066 [00:05<00:56, 16.83it/s]\u001b[A\n",
      " 11%|█         | 117/1066 [00:05<01:02, 15.27it/s]\u001b[A\n",
      " 11%|█         | 119/1066 [00:05<01:04, 14.70it/s]\u001b[A\n",
      " 11%|█▏        | 121/1066 [00:05<01:03, 14.94it/s]\u001b[A\n",
      " 12%|█▏        | 123/1066 [00:06<01:05, 14.38it/s]\u001b[A\n",
      " 12%|█▏        | 125/1066 [00:06<01:06, 14.18it/s]\u001b[A\n",
      " 12%|█▏        | 127/1066 [00:06<01:17, 12.18it/s]\u001b[A\n",
      " 12%|█▏        | 129/1066 [00:06<01:16, 12.18it/s]\u001b[A\n",
      " 12%|█▏        | 131/1066 [00:06<01:16, 12.19it/s]\u001b[A\n",
      " 12%|█▏        | 133/1066 [00:06<01:09, 13.36it/s]\u001b[A\n",
      " 13%|█▎        | 136/1066 [00:06<00:55, 16.64it/s]\u001b[A\n",
      " 13%|█▎        | 138/1066 [00:07<00:59, 15.49it/s]\u001b[A\n",
      " 13%|█▎        | 142/1066 [00:07<00:49, 18.51it/s]\u001b[A\n",
      " 14%|█▎        | 144/1066 [00:07<00:56, 16.35it/s]\u001b[A\n",
      " 14%|█▍        | 147/1066 [00:07<00:48, 19.12it/s]\u001b[A\n",
      " 14%|█▍        | 150/1066 [00:07<00:53, 17.15it/s]\u001b[A\n",
      " 14%|█▍        | 152/1066 [00:07<00:58, 15.72it/s]\u001b[A\n",
      " 14%|█▍        | 154/1066 [00:08<00:59, 15.22it/s]\u001b[A\n",
      " 15%|█▍        | 156/1066 [00:08<01:04, 14.13it/s]\u001b[A\n",
      " 15%|█▌        | 162/1066 [00:08<00:39, 22.94it/s]\u001b[A\n",
      " 16%|█▌        | 167/1066 [00:08<00:31, 28.65it/s]\u001b[A\n",
      " 16%|█▋        | 174/1066 [00:08<00:23, 38.39it/s]\u001b[A\n",
      " 17%|█▋        | 182/1066 [00:08<00:18, 47.69it/s]\u001b[A\n",
      " 18%|█▊        | 188/1066 [00:08<00:18, 47.23it/s]\u001b[A\n",
      " 18%|█▊        | 194/1066 [00:08<00:17, 49.58it/s]\u001b[A\n",
      " 19%|█▉        | 201/1066 [00:08<00:16, 53.24it/s]\u001b[A\n",
      " 20%|█▉        | 209/1066 [00:09<00:14, 58.93it/s]\u001b[A\n",
      " 20%|██        | 217/1066 [00:09<00:13, 63.84it/s]\u001b[A\n",
      " 21%|██        | 225/1066 [00:09<00:12, 66.35it/s]\u001b[A\n",
      " 22%|██▏       | 233/1066 [00:09<00:12, 67.84it/s]\u001b[A\n",
      " 23%|██▎       | 240/1066 [00:09<00:12, 64.46it/s]\u001b[A\n",
      " 23%|██▎       | 247/1066 [00:09<00:13, 62.90it/s]\u001b[A\n",
      " 24%|██▍       | 254/1066 [00:09<00:12, 63.24it/s]\u001b[A\n",
      " 24%|██▍       | 261/1066 [00:09<00:12, 64.29it/s]\u001b[A\n",
      " 25%|██▌       | 268/1066 [00:09<00:12, 63.96it/s]\u001b[A\n",
      " 26%|██▌       | 275/1066 [00:10<00:12, 62.53it/s]\u001b[A\n",
      " 26%|██▋       | 282/1066 [00:10<00:13, 58.77it/s]\u001b[A\n",
      " 27%|██▋       | 289/1066 [00:10<00:12, 60.21it/s]\u001b[A\n",
      " 28%|██▊       | 296/1066 [00:10<00:13, 56.48it/s]\u001b[A\n",
      " 28%|██▊       | 302/1066 [00:10<00:14, 51.56it/s]\u001b[A\n",
      " 29%|██▉       | 310/1066 [00:10<00:13, 56.81it/s]\u001b[A\n",
      " 30%|██▉       | 318/1066 [00:10<00:12, 60.68it/s]\u001b[A\n",
      " 30%|███       | 325/1066 [00:10<00:12, 60.96it/s]\u001b[A\n",
      " 31%|███       | 333/1066 [00:11<00:11, 65.63it/s]\u001b[A\n",
      " 32%|███▏      | 341/1066 [00:11<00:10, 67.64it/s]\u001b[A\n",
      " 33%|███▎      | 349/1066 [00:11<00:10, 67.58it/s]\u001b[A\n",
      " 33%|███▎      | 356/1066 [00:11<00:11, 63.78it/s]\u001b[A\n",
      " 34%|███▍      | 364/1066 [00:11<00:10, 64.51it/s]\u001b[A\n",
      " 35%|███▍      | 371/1066 [00:11<00:11, 62.21it/s]\u001b[A\n",
      " 36%|███▌      | 379/1066 [00:11<00:10, 65.89it/s]\u001b[A\n",
      " 36%|███▋      | 387/1066 [00:11<00:10, 67.68it/s]\u001b[A\n",
      " 37%|███▋      | 394/1066 [00:12<00:10, 63.19it/s]\u001b[A\n",
      " 38%|███▊      | 401/1066 [00:12<00:11, 60.23it/s]\u001b[A\n",
      " 38%|███▊      | 408/1066 [00:12<00:11, 58.76it/s]\u001b[A\n",
      " 39%|███▉      | 414/1066 [00:12<00:11, 56.12it/s]\u001b[A\n",
      " 39%|███▉      | 421/1066 [00:12<00:11, 58.42it/s]\u001b[A\n",
      " 40%|████      | 428/1066 [00:12<00:10, 61.01it/s]\u001b[A\n",
      " 41%|████      | 435/1066 [00:12<00:10, 57.48it/s]\u001b[A\n",
      " 41%|████▏     | 441/1066 [00:12<00:11, 56.15it/s]\u001b[A\n",
      " 42%|████▏     | 449/1066 [00:12<00:10, 59.70it/s]\u001b[A\n",
      " 43%|████▎     | 456/1066 [00:13<00:09, 62.21it/s]\u001b[A\n",
      " 44%|████▎     | 464/1066 [00:13<00:09, 65.73it/s]\u001b[A\n",
      " 44%|████▍     | 472/1066 [00:13<00:08, 67.66it/s]\u001b[A\n",
      " 45%|████▌     | 480/1066 [00:13<00:08, 70.27it/s]\u001b[A\n",
      " 46%|████▌     | 488/1066 [00:13<00:08, 71.18it/s]\u001b[A\n",
      " 47%|████▋     | 496/1066 [00:13<00:07, 72.11it/s]\u001b[A\n",
      " 47%|████▋     | 504/1066 [00:13<00:08, 66.96it/s]\u001b[A\n",
      " 48%|████▊     | 511/1066 [00:13<00:08, 66.75it/s]\u001b[A\n",
      " 49%|████▊     | 518/1066 [00:13<00:08, 66.27it/s]\u001b[A\n",
      " 49%|████▉     | 525/1066 [00:14<00:08, 67.02it/s]\u001b[A\n",
      " 50%|████▉     | 532/1066 [00:14<00:08, 66.34it/s]\u001b[A\n",
      " 51%|█████     | 540/1066 [00:14<00:07, 68.19it/s]\u001b[A\n",
      " 51%|█████▏    | 547/1066 [00:14<00:07, 68.42it/s]\u001b[A\n",
      " 52%|█████▏    | 554/1066 [00:14<00:07, 68.21it/s]\u001b[A\n",
      " 53%|█████▎    | 562/1066 [00:14<00:07, 67.30it/s]\u001b[A\n",
      " 53%|█████▎    | 569/1066 [00:14<00:07, 62.68it/s]\u001b[A\n",
      " 54%|█████▍    | 576/1066 [00:14<00:07, 63.00it/s]\u001b[A\n",
      " 55%|█████▍    | 583/1066 [00:14<00:07, 63.12it/s]\u001b[A\n",
      " 55%|█████▌    | 590/1066 [00:15<00:07, 64.16it/s]\u001b[A\n",
      " 56%|█████▌    | 597/1066 [00:15<00:07, 65.08it/s]\u001b[A\n",
      " 57%|█████▋    | 604/1066 [00:15<00:07, 64.78it/s]\u001b[A\n",
      " 57%|█████▋    | 611/1066 [00:15<00:07, 64.80it/s]\u001b[A\n",
      " 58%|█████▊    | 618/1066 [00:15<00:07, 62.57it/s]\u001b[A\n",
      " 59%|█████▊    | 625/1066 [00:15<00:07, 62.17it/s]\u001b[A\n",
      " 59%|█████▉    | 632/1066 [00:15<00:06, 62.02it/s]\u001b[A\n",
      " 60%|█████▉    | 639/1066 [00:15<00:07, 55.50it/s]\u001b[A\n",
      " 61%|██████    | 645/1066 [00:16<00:08, 50.44it/s]\u001b[A\n",
      " 61%|██████    | 651/1066 [00:16<00:08, 50.96it/s]\u001b[A\n",
      " 62%|██████▏   | 658/1066 [00:16<00:07, 54.65it/s]\u001b[A\n",
      " 62%|██████▏   | 664/1066 [00:16<00:08, 48.43it/s]\u001b[A\n",
      " 63%|██████▎   | 671/1066 [00:16<00:07, 53.10it/s]\u001b[A\n",
      " 64%|██████▎   | 679/1066 [00:16<00:06, 57.80it/s]\u001b[A\n",
      " 64%|██████▍   | 686/1066 [00:16<00:06, 60.53it/s]\u001b[A\n",
      " 65%|██████▌   | 693/1066 [00:16<00:06, 57.88it/s]\u001b[A\n",
      " 66%|██████▌   | 700/1066 [00:16<00:06, 60.92it/s]\u001b[A\n",
      " 66%|██████▋   | 708/1066 [00:17<00:05, 65.04it/s]\u001b[A\n",
      " 67%|██████▋   | 715/1066 [00:17<00:05, 65.73it/s]\u001b[A\n",
      " 68%|██████▊   | 722/1066 [00:17<00:05, 66.67it/s]\u001b[A\n",
      " 68%|██████▊   | 730/1066 [00:17<00:04, 68.10it/s]\u001b[A\n",
      " 69%|██████▉   | 737/1066 [00:17<00:04, 68.39it/s]\u001b[A\n",
      " 70%|██████▉   | 744/1066 [00:17<00:04, 67.28it/s]\u001b[A\n",
      " 71%|███████   | 756/1066 [00:17<00:03, 80.98it/s]\u001b[A\n",
      " 72%|███████▏  | 768/1066 [00:17<00:03, 91.25it/s]\u001b[A\n",
      " 73%|███████▎  | 778/1066 [00:18<00:03, 74.10it/s]\u001b[A\n",
      " 74%|███████▎  | 786/1066 [00:18<00:04, 64.67it/s]\u001b[A\n",
      " 74%|███████▍  | 794/1066 [00:18<00:05, 48.77it/s]\u001b[A\n",
      " 75%|███████▌  | 800/1066 [00:18<00:05, 46.86it/s]\u001b[A\n",
      " 76%|███████▌  | 806/1066 [00:18<00:05, 48.97it/s]\u001b[A\n",
      " 76%|███████▌  | 812/1066 [00:18<00:06, 39.13it/s]\u001b[A\n",
      " 77%|███████▋  | 817/1066 [00:19<00:06, 38.13it/s]\u001b[A\n",
      " 77%|███████▋  | 823/1066 [00:19<00:05, 42.34it/s]\u001b[A\n",
      " 78%|███████▊  | 828/1066 [00:19<00:06, 36.38it/s]\u001b[A\n",
      " 78%|███████▊  | 833/1066 [00:19<00:07, 33.28it/s]\u001b[A\n",
      " 79%|███████▊  | 837/1066 [00:19<00:07, 31.21it/s]\u001b[A\n",
      " 79%|███████▉  | 841/1066 [00:19<00:06, 32.79it/s]\u001b[A\n",
      " 79%|███████▉  | 845/1066 [00:19<00:06, 31.83it/s]\u001b[A\n",
      " 80%|███████▉  | 850/1066 [00:20<00:06, 34.89it/s]\u001b[A\n",
      " 80%|████████  | 854/1066 [00:20<00:06, 34.60it/s]\u001b[A\n",
      " 80%|████████  | 858/1066 [00:20<00:06, 32.79it/s]\u001b[A\n",
      " 81%|████████  | 862/1066 [00:20<00:06, 32.04it/s]\u001b[A\n",
      " 81%|████████  | 866/1066 [00:20<00:06, 32.51it/s]\u001b[A\n",
      " 82%|████████▏ | 870/1066 [00:20<00:06, 31.37it/s]\u001b[A\n",
      " 82%|████████▏ | 875/1066 [00:20<00:05, 35.66it/s]\u001b[A\n",
      " 82%|████████▏ | 879/1066 [00:20<00:05, 34.84it/s]\u001b[A\n",
      " 83%|████████▎ | 884/1066 [00:21<00:04, 38.26it/s]\u001b[A\n",
      " 83%|████████▎ | 890/1066 [00:21<00:03, 44.07it/s]\u001b[A\n",
      " 84%|████████▍ | 897/1066 [00:21<00:03, 50.79it/s]\u001b[A\n",
      " 85%|████████▍ | 903/1066 [00:21<00:03, 50.82it/s]\u001b[A\n",
      " 85%|████████▌ | 911/1066 [00:21<00:02, 55.42it/s]\u001b[A\n",
      " 86%|████████▌ | 919/1066 [00:21<00:02, 58.89it/s]\u001b[A\n",
      " 87%|████████▋ | 926/1066 [00:21<00:02, 58.74it/s]\u001b[A\n",
      " 87%|████████▋ | 932/1066 [00:21<00:02, 47.58it/s]\u001b[A\n",
      " 88%|████████▊ | 938/1066 [00:22<00:03, 41.99it/s]\u001b[A\n",
      " 88%|████████▊ | 943/1066 [00:22<00:03, 39.57it/s]\u001b[A\n",
      " 89%|████████▉ | 948/1066 [00:22<00:03, 35.45it/s]\u001b[A\n",
      " 89%|████████▉ | 952/1066 [00:22<00:03, 33.56it/s]\u001b[A\n",
      " 90%|████████▉ | 958/1066 [00:22<00:02, 38.51it/s]\u001b[A\n",
      " 90%|█████████ | 963/1066 [00:22<00:02, 36.60it/s]\u001b[A\n",
      " 91%|█████████ | 967/1066 [00:22<00:02, 36.28it/s]\u001b[A\n",
      " 91%|█████████ | 972/1066 [00:23<00:02, 37.68it/s]\u001b[A\n",
      " 92%|█████████▏| 976/1066 [00:23<00:02, 35.64it/s]\u001b[A\n",
      " 92%|█████████▏| 980/1066 [00:23<00:02, 34.66it/s]\u001b[A\n",
      " 92%|█████████▏| 985/1066 [00:23<00:02, 35.21it/s]\u001b[A\n",
      " 93%|█████████▎| 989/1066 [00:23<00:02, 33.13it/s]\u001b[A\n",
      " 93%|█████████▎| 994/1066 [00:23<00:01, 36.57it/s]\u001b[A\n",
      " 94%|█████████▎| 998/1066 [00:23<00:01, 34.61it/s]\u001b[A\n",
      " 94%|█████████▍| 1002/1066 [00:24<00:01, 33.51it/s]\u001b[A\n",
      " 94%|█████████▍| 1006/1066 [00:24<00:01, 31.86it/s]\u001b[A\n",
      " 95%|█████████▍| 1012/1066 [00:24<00:01, 37.98it/s]\u001b[A\n",
      " 95%|█████████▌| 1016/1066 [00:24<00:01, 28.75it/s]\u001b[A\n",
      " 96%|█████████▌| 1020/1066 [00:24<00:01, 27.94it/s]\u001b[A\n",
      " 96%|█████████▌| 1024/1066 [00:24<00:01, 27.53it/s]\u001b[A\n",
      " 96%|█████████▋| 1028/1066 [00:24<00:01, 29.95it/s]\u001b[A\n",
      " 97%|█████████▋| 1032/1066 [00:25<00:01, 28.02it/s]\u001b[A\n",
      " 97%|█████████▋| 1035/1066 [00:25<00:01, 27.79it/s]\u001b[A\n",
      " 97%|█████████▋| 1038/1066 [00:25<00:01, 26.80it/s]\u001b[A\n",
      " 98%|█████████▊| 1041/1066 [00:25<00:01, 24.39it/s]\u001b[A\n",
      " 98%|█████████▊| 1045/1066 [00:25<00:00, 27.32it/s]\u001b[A\n",
      "100%|██████████| 1066/1066 [00:25<00:00, 41.40it/s]\n"
     ]
    }
   ],
   "source": [
    "import numpy as np\n",
    "from tqdm import tqdm\n",
    "from transformers.pipelines.pt_utils import KeyDataset\n",
    "\n",
    "y_pred = []\n",
    "for output in tqdm(pipe(KeyDataset(data[\"test\"], \"text\")), total=len(data[\"test\"])):\n",
    "    negative = output[0][\"score\"]\n",
    "    positive = output[2][\"score\"]\n",
    "    assignment = np.argmax([negative, positive])\n",
    "    y_pred.append(assignment)"
   ]
  },
  {
   "cell_type": "code",
   "execution_count": 6,
   "metadata": {
    "id": "_37GsyW4CbwO"
   },
   "outputs": [],
   "source": [
    "from sklearn.metrics import classification_report\n",
    "\n",
    "\n",
    "def evaluate(y_true, y_pred):\n",
    "    print(classification_report(y_true, y_pred, target_names=[\"Negative Review\", \"Positive Review\"]))"
   ]
  },
  {
   "cell_type": "code",
   "execution_count": 8,
   "metadata": {
    "colab": {
     "base_uri": "https://localhost:8080/"
    },
    "id": "w1VvfNsCCd1t",
    "outputId": "e5d69579-b6e5-4252-c0f6-8a6494e9a2a9"
   },
   "outputs": [
    {
     "name": "stdout",
     "output_type": "stream",
     "text": [
      "                 precision    recall  f1-score   support\n",
      "\n",
      "Negative Review       0.76      0.88      0.81       533\n",
      "Positive Review       0.86      0.72      0.78       533\n",
      "\n",
      "       accuracy                           0.80      1066\n",
      "      macro avg       0.81      0.80      0.80      1066\n",
      "   weighted avg       0.81      0.80      0.80      1066\n",
      "\n"
     ]
    }
   ],
   "source": [
    "evaluate(data[\"test\"][\"label\"], y_pred)"
   ]
  },
  {
   "cell_type": "markdown",
   "metadata": {
    "id": "elE47VsXClba"
   },
   "source": [
    "- 혼동 행렬\n",
    "    - 정밀도: TP / (TP + FP), 양성으로 예측된 샘플 중 진양성 샘플 비율\n",
    "    - 재현율: TP / (TP + FN), 전체 양성 샘플 중 진양성 샘플 비율\n",
    "    - 정확도: TP + TN / (TP + TN + FP + FN), 전체 샘플 중 올바르게 예측된 샘플 비율\n",
    "    - F1 점수: 정밀도, 재현율을 이용한 성능 평가 척도"
   ]
  },
  {
   "cell_type": "code",
   "execution_count": 13,
   "metadata": {
    "colab": {
     "base_uri": "https://localhost:8080/"
    },
    "id": "bBYYcs09DDeN",
    "outputId": "dd196603-5274-4e0f-d6f6-3f1ff5cdf54e"
   },
   "outputs": [
    {
     "name": "stderr",
     "output_type": "stream",
     "text": [
      "Device set to use cuda:0\n",
      "100%|██████████| 1066/1066 [00:05<00:00, 186.95it/s]\n"
     ]
    },
    {
     "name": "stdout",
     "output_type": "stream",
     "text": [
      "                 precision    recall  f1-score   support\n",
      "\n",
      "Negative Review       0.89      0.90      0.90       533\n",
      "Positive Review       0.90      0.89      0.90       533\n",
      "\n",
      "       accuracy                           0.90      1066\n",
      "      macro avg       0.90      0.90      0.90      1066\n",
      "   weighted avg       0.90      0.90      0.90      1066\n",
      "\n"
     ]
    }
   ],
   "source": [
    "model_path = \"distilbert-base-uncased-finetuned-sst-2-english\"\n",
    "\n",
    "pipe = pipeline(\n",
    "    model=model_path,\n",
    "    tokenizer=model_path,\n",
    "    return_all_scores=True,\n",
    "    device=\"cuda:0\"\n",
    ")\n",
    "\n",
    "y_pred = []\n",
    "for output in tqdm(pipe(KeyDataset(data[\"test\"], \"text\")), total=len(data[\"test\"])):\n",
    "  negative = output[0][\"score\"]\n",
    "  positive = output[1][\"score\"]\n",
    "  assignment = np.argmax([negative, positive])\n",
    "  y_pred.append(assignment)\n",
    "\n",
    "evaluate(data[\"test\"][\"label\"], y_pred)"
   ]
  },
  {
   "cell_type": "markdown",
   "metadata": {
    "id": "_QRNo-UpHZgn"
   },
   "source": [
    "- 결과\n",
    "  1. Twitter-RoBERTa-base 모델: 0.80\n",
    "  2. distilbert-base-uncased-finetuned-sst-2-english 모델: 0.90\n",
    "  \n",
    "  \n",
    "\n",
    "\n",
    ".    "
   ]
  },
  {
   "cell_type": "markdown",
   "metadata": {
    "id": "N3U3BcR-C0iN"
   },
   "source": [
    "## 임베딩을 활용하여 분류 작업 수행\n",
    "\n",
    "- 특정 작업에 맞는 사전 훈련된 모델이 없으면 어떻게 해야 하나?\n",
    "  - 직접 미세 튜닝 -> 가능하지만 많은 리소스 필요\n",
    "  - 범용 임베딩 모델 사용"
   ]
  },
  {
   "cell_type": "markdown",
   "metadata": {
    "id": "o-fz1ldwC20t"
   },
   "source": [
    "### 지도 학습 분류\n",
    "\n",
    "- 지도 학습: 정답이 있는 데이터(라벨링된 데이터)로 학습\n",
    "- 임베딩 모델로 특성을 생성 후 분류기(Ex: 회귀 모델) 사용"
   ]
  },
  {
   "cell_type": "code",
   "execution_count": 22,
   "metadata": {
    "colab": {
     "base_uri": "https://localhost:8080/",
     "height": 81,
     "referenced_widgets": [
      "927fec12903546b0901f628fa34641d0",
      "198c3a6c83734e0384763028438ab532",
      "893cdbdc4df8427b8badbd26786c159f",
      "a0358acd16c74641ae6b06ce38bac393",
      "a4766ebae7f24d17930ad49895b596a3",
      "3e7cd33095d4433d82325f36188efdee",
      "c1e7d1849cdf4912a04a32fc9776a738",
      "9952ebff270d4bd79281d6b8841819db",
      "ae32c509eff545c1a4e119fd6dae5af8",
      "0c46251bd7fc4a1dae451105e4f83a73",
      "1346f2d0b03144beb4c6cb396ec5ef14",
      "cb02ecd3165449f7bd0586df86029c05",
      "89817f4dc5a94725a1b6d3742baded44",
      "a0b0312eb4a64b9aa55859e0621bcf00",
      "24d4fd81ed90491b91db241bb12956df",
      "44b96f9dcb96484fbbcf67fa9efcb1a4",
      "e25ad7ae1c694f4193392f196fc7b940",
      "a9c8211cb26447e4879d7979bd9fcd08",
      "a11ee555b0f84126868b6c2ef9d96095",
      "3485835ca1e04ea8bb841ed588ce1237",
      "87bc0c3499e8481089bd5947bec3522c",
      "afebff0d5b064f7dbfe944fff2458c82"
     ]
    },
    "id": "Ohtdvh4DC4sD",
    "outputId": "132905a9-a184-4a18-97a2-785a9bcf79e9"
   },
   "outputs": [
    {
     "data": {
      "application/vnd.jupyter.widget-view+json": {
       "model_id": "927fec12903546b0901f628fa34641d0",
       "version_major": 2,
       "version_minor": 0
      },
      "text/plain": [
       "Batches:   0%|          | 0/267 [00:00<?, ?it/s]"
      ]
     },
     "metadata": {},
     "output_type": "display_data"
    },
    {
     "data": {
      "application/vnd.jupyter.widget-view+json": {
       "model_id": "cb02ecd3165449f7bd0586df86029c05",
       "version_major": 2,
       "version_minor": 0
      },
      "text/plain": [
       "Batches:   0%|          | 0/34 [00:00<?, ?it/s]"
      ]
     },
     "metadata": {},
     "output_type": "display_data"
    }
   ],
   "source": [
    "from sentence_transformers import SentenceTransformer\n",
    "\n",
    "model = SentenceTransformer('sentence-transformers/all-mpnet-base-v2')\n",
    "\n",
    "type(data[\"train\"][\"text\"])\n",
    "train_embeddings = model.encode(data[\"train\"][\"text\"][:], show_progress_bar=True)\n",
    "test_embeddings = model.encode(data[\"test\"][\"text\"][:], show_progress_bar=True)"
   ]
  },
  {
   "cell_type": "code",
   "execution_count": 23,
   "metadata": {
    "colab": {
     "base_uri": "https://localhost:8080/"
    },
    "id": "bVTYaiQmEbcw",
    "outputId": "1ca0e355-3849-42d2-e2ee-c034b9dc7145"
   },
   "outputs": [
    {
     "data": {
      "text/plain": [
       "(8530, 768)"
      ]
     },
     "execution_count": 23,
     "metadata": {},
     "output_type": "execute_result"
    }
   ],
   "source": [
    "train_embeddings.shape"
   ]
  },
  {
   "cell_type": "code",
   "execution_count": 24,
   "metadata": {
    "colab": {
     "base_uri": "https://localhost:8080/"
    },
    "id": "x5_SoLOkF9AR",
    "outputId": "fc1cabce-3c70-42a7-cafa-362ab7899adf"
   },
   "outputs": [
    {
     "data": {
      "text/plain": [
       "(1066, 768)"
      ]
     },
     "execution_count": 24,
     "metadata": {},
     "output_type": "execute_result"
    }
   ],
   "source": [
    "test_embeddings.shape"
   ]
  },
  {
   "cell_type": "code",
   "execution_count": 25,
   "metadata": {
    "colab": {
     "base_uri": "https://localhost:8080/",
     "height": 80
    },
    "id": "HL5uHWuoGAvr",
    "outputId": "6cb88a26-91e8-4c7a-940f-05b6e8f9e2b7"
   },
   "outputs": [
    {
     "data": {
      "text/html": [
       "<style>#sk-container-id-1 {\n",
       "  /* Definition of color scheme common for light and dark mode */\n",
       "  --sklearn-color-text: #000;\n",
       "  --sklearn-color-text-muted: #666;\n",
       "  --sklearn-color-line: gray;\n",
       "  /* Definition of color scheme for unfitted estimators */\n",
       "  --sklearn-color-unfitted-level-0: #fff5e6;\n",
       "  --sklearn-color-unfitted-level-1: #f6e4d2;\n",
       "  --sklearn-color-unfitted-level-2: #ffe0b3;\n",
       "  --sklearn-color-unfitted-level-3: chocolate;\n",
       "  /* Definition of color scheme for fitted estimators */\n",
       "  --sklearn-color-fitted-level-0: #f0f8ff;\n",
       "  --sklearn-color-fitted-level-1: #d4ebff;\n",
       "  --sklearn-color-fitted-level-2: #b3dbfd;\n",
       "  --sklearn-color-fitted-level-3: cornflowerblue;\n",
       "\n",
       "  /* Specific color for light theme */\n",
       "  --sklearn-color-text-on-default-background: var(--sg-text-color, var(--theme-code-foreground, var(--jp-content-font-color1, black)));\n",
       "  --sklearn-color-background: var(--sg-background-color, var(--theme-background, var(--jp-layout-color0, white)));\n",
       "  --sklearn-color-border-box: var(--sg-text-color, var(--theme-code-foreground, var(--jp-content-font-color1, black)));\n",
       "  --sklearn-color-icon: #696969;\n",
       "\n",
       "  @media (prefers-color-scheme: dark) {\n",
       "    /* Redefinition of color scheme for dark theme */\n",
       "    --sklearn-color-text-on-default-background: var(--sg-text-color, var(--theme-code-foreground, var(--jp-content-font-color1, white)));\n",
       "    --sklearn-color-background: var(--sg-background-color, var(--theme-background, var(--jp-layout-color0, #111)));\n",
       "    --sklearn-color-border-box: var(--sg-text-color, var(--theme-code-foreground, var(--jp-content-font-color1, white)));\n",
       "    --sklearn-color-icon: #878787;\n",
       "  }\n",
       "}\n",
       "\n",
       "#sk-container-id-1 {\n",
       "  color: var(--sklearn-color-text);\n",
       "}\n",
       "\n",
       "#sk-container-id-1 pre {\n",
       "  padding: 0;\n",
       "}\n",
       "\n",
       "#sk-container-id-1 input.sk-hidden--visually {\n",
       "  border: 0;\n",
       "  clip: rect(1px 1px 1px 1px);\n",
       "  clip: rect(1px, 1px, 1px, 1px);\n",
       "  height: 1px;\n",
       "  margin: -1px;\n",
       "  overflow: hidden;\n",
       "  padding: 0;\n",
       "  position: absolute;\n",
       "  width: 1px;\n",
       "}\n",
       "\n",
       "#sk-container-id-1 div.sk-dashed-wrapped {\n",
       "  border: 1px dashed var(--sklearn-color-line);\n",
       "  margin: 0 0.4em 0.5em 0.4em;\n",
       "  box-sizing: border-box;\n",
       "  padding-bottom: 0.4em;\n",
       "  background-color: var(--sklearn-color-background);\n",
       "}\n",
       "\n",
       "#sk-container-id-1 div.sk-container {\n",
       "  /* jupyter's `normalize.less` sets `[hidden] { display: none; }`\n",
       "     but bootstrap.min.css set `[hidden] { display: none !important; }`\n",
       "     so we also need the `!important` here to be able to override the\n",
       "     default hidden behavior on the sphinx rendered scikit-learn.org.\n",
       "     See: https://github.com/scikit-learn/scikit-learn/issues/21755 */\n",
       "  display: inline-block !important;\n",
       "  position: relative;\n",
       "}\n",
       "\n",
       "#sk-container-id-1 div.sk-text-repr-fallback {\n",
       "  display: none;\n",
       "}\n",
       "\n",
       "div.sk-parallel-item,\n",
       "div.sk-serial,\n",
       "div.sk-item {\n",
       "  /* draw centered vertical line to link estimators */\n",
       "  background-image: linear-gradient(var(--sklearn-color-text-on-default-background), var(--sklearn-color-text-on-default-background));\n",
       "  background-size: 2px 100%;\n",
       "  background-repeat: no-repeat;\n",
       "  background-position: center center;\n",
       "}\n",
       "\n",
       "/* Parallel-specific style estimator block */\n",
       "\n",
       "#sk-container-id-1 div.sk-parallel-item::after {\n",
       "  content: \"\";\n",
       "  width: 100%;\n",
       "  border-bottom: 2px solid var(--sklearn-color-text-on-default-background);\n",
       "  flex-grow: 1;\n",
       "}\n",
       "\n",
       "#sk-container-id-1 div.sk-parallel {\n",
       "  display: flex;\n",
       "  align-items: stretch;\n",
       "  justify-content: center;\n",
       "  background-color: var(--sklearn-color-background);\n",
       "  position: relative;\n",
       "}\n",
       "\n",
       "#sk-container-id-1 div.sk-parallel-item {\n",
       "  display: flex;\n",
       "  flex-direction: column;\n",
       "}\n",
       "\n",
       "#sk-container-id-1 div.sk-parallel-item:first-child::after {\n",
       "  align-self: flex-end;\n",
       "  width: 50%;\n",
       "}\n",
       "\n",
       "#sk-container-id-1 div.sk-parallel-item:last-child::after {\n",
       "  align-self: flex-start;\n",
       "  width: 50%;\n",
       "}\n",
       "\n",
       "#sk-container-id-1 div.sk-parallel-item:only-child::after {\n",
       "  width: 0;\n",
       "}\n",
       "\n",
       "/* Serial-specific style estimator block */\n",
       "\n",
       "#sk-container-id-1 div.sk-serial {\n",
       "  display: flex;\n",
       "  flex-direction: column;\n",
       "  align-items: center;\n",
       "  background-color: var(--sklearn-color-background);\n",
       "  padding-right: 1em;\n",
       "  padding-left: 1em;\n",
       "}\n",
       "\n",
       "\n",
       "/* Toggleable style: style used for estimator/Pipeline/ColumnTransformer box that is\n",
       "clickable and can be expanded/collapsed.\n",
       "- Pipeline and ColumnTransformer use this feature and define the default style\n",
       "- Estimators will overwrite some part of the style using the `sk-estimator` class\n",
       "*/\n",
       "\n",
       "/* Pipeline and ColumnTransformer style (default) */\n",
       "\n",
       "#sk-container-id-1 div.sk-toggleable {\n",
       "  /* Default theme specific background. It is overwritten whether we have a\n",
       "  specific estimator or a Pipeline/ColumnTransformer */\n",
       "  background-color: var(--sklearn-color-background);\n",
       "}\n",
       "\n",
       "/* Toggleable label */\n",
       "#sk-container-id-1 label.sk-toggleable__label {\n",
       "  cursor: pointer;\n",
       "  display: flex;\n",
       "  width: 100%;\n",
       "  margin-bottom: 0;\n",
       "  padding: 0.5em;\n",
       "  box-sizing: border-box;\n",
       "  text-align: center;\n",
       "  align-items: start;\n",
       "  justify-content: space-between;\n",
       "  gap: 0.5em;\n",
       "}\n",
       "\n",
       "#sk-container-id-1 label.sk-toggleable__label .caption {\n",
       "  font-size: 0.6rem;\n",
       "  font-weight: lighter;\n",
       "  color: var(--sklearn-color-text-muted);\n",
       "}\n",
       "\n",
       "#sk-container-id-1 label.sk-toggleable__label-arrow:before {\n",
       "  /* Arrow on the left of the label */\n",
       "  content: \"▸\";\n",
       "  float: left;\n",
       "  margin-right: 0.25em;\n",
       "  color: var(--sklearn-color-icon);\n",
       "}\n",
       "\n",
       "#sk-container-id-1 label.sk-toggleable__label-arrow:hover:before {\n",
       "  color: var(--sklearn-color-text);\n",
       "}\n",
       "\n",
       "/* Toggleable content - dropdown */\n",
       "\n",
       "#sk-container-id-1 div.sk-toggleable__content {\n",
       "  max-height: 0;\n",
       "  max-width: 0;\n",
       "  overflow: hidden;\n",
       "  text-align: left;\n",
       "  /* unfitted */\n",
       "  background-color: var(--sklearn-color-unfitted-level-0);\n",
       "}\n",
       "\n",
       "#sk-container-id-1 div.sk-toggleable__content.fitted {\n",
       "  /* fitted */\n",
       "  background-color: var(--sklearn-color-fitted-level-0);\n",
       "}\n",
       "\n",
       "#sk-container-id-1 div.sk-toggleable__content pre {\n",
       "  margin: 0.2em;\n",
       "  border-radius: 0.25em;\n",
       "  color: var(--sklearn-color-text);\n",
       "  /* unfitted */\n",
       "  background-color: var(--sklearn-color-unfitted-level-0);\n",
       "}\n",
       "\n",
       "#sk-container-id-1 div.sk-toggleable__content.fitted pre {\n",
       "  /* unfitted */\n",
       "  background-color: var(--sklearn-color-fitted-level-0);\n",
       "}\n",
       "\n",
       "#sk-container-id-1 input.sk-toggleable__control:checked~div.sk-toggleable__content {\n",
       "  /* Expand drop-down */\n",
       "  max-height: 200px;\n",
       "  max-width: 100%;\n",
       "  overflow: auto;\n",
       "}\n",
       "\n",
       "#sk-container-id-1 input.sk-toggleable__control:checked~label.sk-toggleable__label-arrow:before {\n",
       "  content: \"▾\";\n",
       "}\n",
       "\n",
       "/* Pipeline/ColumnTransformer-specific style */\n",
       "\n",
       "#sk-container-id-1 div.sk-label input.sk-toggleable__control:checked~label.sk-toggleable__label {\n",
       "  color: var(--sklearn-color-text);\n",
       "  background-color: var(--sklearn-color-unfitted-level-2);\n",
       "}\n",
       "\n",
       "#sk-container-id-1 div.sk-label.fitted input.sk-toggleable__control:checked~label.sk-toggleable__label {\n",
       "  background-color: var(--sklearn-color-fitted-level-2);\n",
       "}\n",
       "\n",
       "/* Estimator-specific style */\n",
       "\n",
       "/* Colorize estimator box */\n",
       "#sk-container-id-1 div.sk-estimator input.sk-toggleable__control:checked~label.sk-toggleable__label {\n",
       "  /* unfitted */\n",
       "  background-color: var(--sklearn-color-unfitted-level-2);\n",
       "}\n",
       "\n",
       "#sk-container-id-1 div.sk-estimator.fitted input.sk-toggleable__control:checked~label.sk-toggleable__label {\n",
       "  /* fitted */\n",
       "  background-color: var(--sklearn-color-fitted-level-2);\n",
       "}\n",
       "\n",
       "#sk-container-id-1 div.sk-label label.sk-toggleable__label,\n",
       "#sk-container-id-1 div.sk-label label {\n",
       "  /* The background is the default theme color */\n",
       "  color: var(--sklearn-color-text-on-default-background);\n",
       "}\n",
       "\n",
       "/* On hover, darken the color of the background */\n",
       "#sk-container-id-1 div.sk-label:hover label.sk-toggleable__label {\n",
       "  color: var(--sklearn-color-text);\n",
       "  background-color: var(--sklearn-color-unfitted-level-2);\n",
       "}\n",
       "\n",
       "/* Label box, darken color on hover, fitted */\n",
       "#sk-container-id-1 div.sk-label.fitted:hover label.sk-toggleable__label.fitted {\n",
       "  color: var(--sklearn-color-text);\n",
       "  background-color: var(--sklearn-color-fitted-level-2);\n",
       "}\n",
       "\n",
       "/* Estimator label */\n",
       "\n",
       "#sk-container-id-1 div.sk-label label {\n",
       "  font-family: monospace;\n",
       "  font-weight: bold;\n",
       "  display: inline-block;\n",
       "  line-height: 1.2em;\n",
       "}\n",
       "\n",
       "#sk-container-id-1 div.sk-label-container {\n",
       "  text-align: center;\n",
       "}\n",
       "\n",
       "/* Estimator-specific */\n",
       "#sk-container-id-1 div.sk-estimator {\n",
       "  font-family: monospace;\n",
       "  border: 1px dotted var(--sklearn-color-border-box);\n",
       "  border-radius: 0.25em;\n",
       "  box-sizing: border-box;\n",
       "  margin-bottom: 0.5em;\n",
       "  /* unfitted */\n",
       "  background-color: var(--sklearn-color-unfitted-level-0);\n",
       "}\n",
       "\n",
       "#sk-container-id-1 div.sk-estimator.fitted {\n",
       "  /* fitted */\n",
       "  background-color: var(--sklearn-color-fitted-level-0);\n",
       "}\n",
       "\n",
       "/* on hover */\n",
       "#sk-container-id-1 div.sk-estimator:hover {\n",
       "  /* unfitted */\n",
       "  background-color: var(--sklearn-color-unfitted-level-2);\n",
       "}\n",
       "\n",
       "#sk-container-id-1 div.sk-estimator.fitted:hover {\n",
       "  /* fitted */\n",
       "  background-color: var(--sklearn-color-fitted-level-2);\n",
       "}\n",
       "\n",
       "/* Specification for estimator info (e.g. \"i\" and \"?\") */\n",
       "\n",
       "/* Common style for \"i\" and \"?\" */\n",
       "\n",
       ".sk-estimator-doc-link,\n",
       "a:link.sk-estimator-doc-link,\n",
       "a:visited.sk-estimator-doc-link {\n",
       "  float: right;\n",
       "  font-size: smaller;\n",
       "  line-height: 1em;\n",
       "  font-family: monospace;\n",
       "  background-color: var(--sklearn-color-background);\n",
       "  border-radius: 1em;\n",
       "  height: 1em;\n",
       "  width: 1em;\n",
       "  text-decoration: none !important;\n",
       "  margin-left: 0.5em;\n",
       "  text-align: center;\n",
       "  /* unfitted */\n",
       "  border: var(--sklearn-color-unfitted-level-1) 1pt solid;\n",
       "  color: var(--sklearn-color-unfitted-level-1);\n",
       "}\n",
       "\n",
       ".sk-estimator-doc-link.fitted,\n",
       "a:link.sk-estimator-doc-link.fitted,\n",
       "a:visited.sk-estimator-doc-link.fitted {\n",
       "  /* fitted */\n",
       "  border: var(--sklearn-color-fitted-level-1) 1pt solid;\n",
       "  color: var(--sklearn-color-fitted-level-1);\n",
       "}\n",
       "\n",
       "/* On hover */\n",
       "div.sk-estimator:hover .sk-estimator-doc-link:hover,\n",
       ".sk-estimator-doc-link:hover,\n",
       "div.sk-label-container:hover .sk-estimator-doc-link:hover,\n",
       ".sk-estimator-doc-link:hover {\n",
       "  /* unfitted */\n",
       "  background-color: var(--sklearn-color-unfitted-level-3);\n",
       "  color: var(--sklearn-color-background);\n",
       "  text-decoration: none;\n",
       "}\n",
       "\n",
       "div.sk-estimator.fitted:hover .sk-estimator-doc-link.fitted:hover,\n",
       ".sk-estimator-doc-link.fitted:hover,\n",
       "div.sk-label-container:hover .sk-estimator-doc-link.fitted:hover,\n",
       ".sk-estimator-doc-link.fitted:hover {\n",
       "  /* fitted */\n",
       "  background-color: var(--sklearn-color-fitted-level-3);\n",
       "  color: var(--sklearn-color-background);\n",
       "  text-decoration: none;\n",
       "}\n",
       "\n",
       "/* Span, style for the box shown on hovering the info icon */\n",
       ".sk-estimator-doc-link span {\n",
       "  display: none;\n",
       "  z-index: 9999;\n",
       "  position: relative;\n",
       "  font-weight: normal;\n",
       "  right: .2ex;\n",
       "  padding: .5ex;\n",
       "  margin: .5ex;\n",
       "  width: min-content;\n",
       "  min-width: 20ex;\n",
       "  max-width: 50ex;\n",
       "  color: var(--sklearn-color-text);\n",
       "  box-shadow: 2pt 2pt 4pt #999;\n",
       "  /* unfitted */\n",
       "  background: var(--sklearn-color-unfitted-level-0);\n",
       "  border: .5pt solid var(--sklearn-color-unfitted-level-3);\n",
       "}\n",
       "\n",
       ".sk-estimator-doc-link.fitted span {\n",
       "  /* fitted */\n",
       "  background: var(--sklearn-color-fitted-level-0);\n",
       "  border: var(--sklearn-color-fitted-level-3);\n",
       "}\n",
       "\n",
       ".sk-estimator-doc-link:hover span {\n",
       "  display: block;\n",
       "}\n",
       "\n",
       "/* \"?\"-specific style due to the `<a>` HTML tag */\n",
       "\n",
       "#sk-container-id-1 a.estimator_doc_link {\n",
       "  float: right;\n",
       "  font-size: 1rem;\n",
       "  line-height: 1em;\n",
       "  font-family: monospace;\n",
       "  background-color: var(--sklearn-color-background);\n",
       "  border-radius: 1rem;\n",
       "  height: 1rem;\n",
       "  width: 1rem;\n",
       "  text-decoration: none;\n",
       "  /* unfitted */\n",
       "  color: var(--sklearn-color-unfitted-level-1);\n",
       "  border: var(--sklearn-color-unfitted-level-1) 1pt solid;\n",
       "}\n",
       "\n",
       "#sk-container-id-1 a.estimator_doc_link.fitted {\n",
       "  /* fitted */\n",
       "  border: var(--sklearn-color-fitted-level-1) 1pt solid;\n",
       "  color: var(--sklearn-color-fitted-level-1);\n",
       "}\n",
       "\n",
       "/* On hover */\n",
       "#sk-container-id-1 a.estimator_doc_link:hover {\n",
       "  /* unfitted */\n",
       "  background-color: var(--sklearn-color-unfitted-level-3);\n",
       "  color: var(--sklearn-color-background);\n",
       "  text-decoration: none;\n",
       "}\n",
       "\n",
       "#sk-container-id-1 a.estimator_doc_link.fitted:hover {\n",
       "  /* fitted */\n",
       "  background-color: var(--sklearn-color-fitted-level-3);\n",
       "}\n",
       "</style><div id=\"sk-container-id-1\" class=\"sk-top-container\"><div class=\"sk-text-repr-fallback\"><pre>LogisticRegression(random_state=42)</pre><b>In a Jupyter environment, please rerun this cell to show the HTML representation or trust the notebook. <br />On GitHub, the HTML representation is unable to render, please try loading this page with nbviewer.org.</b></div><div class=\"sk-container\" hidden><div class=\"sk-item\"><div class=\"sk-estimator fitted sk-toggleable\"><input class=\"sk-toggleable__control sk-hidden--visually\" id=\"sk-estimator-id-1\" type=\"checkbox\" checked><label for=\"sk-estimator-id-1\" class=\"sk-toggleable__label fitted sk-toggleable__label-arrow\"><div><div>LogisticRegression</div></div><div><a class=\"sk-estimator-doc-link fitted\" rel=\"noreferrer\" target=\"_blank\" href=\"https://scikit-learn.org/1.6/modules/generated/sklearn.linear_model.LogisticRegression.html\">?<span>Documentation for LogisticRegression</span></a><span class=\"sk-estimator-doc-link fitted\">i<span>Fitted</span></span></div></label><div class=\"sk-toggleable__content fitted\"><pre>LogisticRegression(random_state=42)</pre></div> </div></div></div></div>"
      ],
      "text/plain": [
       "LogisticRegression(random_state=42)"
      ]
     },
     "execution_count": 25,
     "metadata": {},
     "output_type": "execute_result"
    }
   ],
   "source": [
    "from sklearn.linear_model import LogisticRegression\n",
    "\n",
    "clf = LogisticRegression(random_state=42)\n",
    "clf.fit(train_embeddings, data[\"train\"][\"label\"])"
   ]
  },
  {
   "cell_type": "code",
   "execution_count": 26,
   "metadata": {
    "colab": {
     "base_uri": "https://localhost:8080/"
    },
    "id": "8Sz5He-8GDiu",
    "outputId": "538c4ddf-7565-4d6c-c80a-781d1e2b336d"
   },
   "outputs": [
    {
     "name": "stdout",
     "output_type": "stream",
     "text": [
      "                 precision    recall  f1-score   support\n",
      "\n",
      "Negative Review       0.85      0.86      0.85       533\n",
      "Positive Review       0.86      0.85      0.85       533\n",
      "\n",
      "       accuracy                           0.85      1066\n",
      "      macro avg       0.85      0.85      0.85      1066\n",
      "   weighted avg       0.85      0.85      0.85      1066\n",
      "\n"
     ]
    }
   ],
   "source": [
    "y_pred = clf.predict(test_embeddings)\n",
    "evaluate(data[\"test\"][\"label\"], y_pred)"
   ]
  },
  {
   "cell_type": "markdown",
   "metadata": {
    "id": "HRFJVE11HxOS"
   },
   "source": [
    "- 결과\n",
    "    1. SentenceTransformer + LogisticRegression: 0.85"
   ]
  },
  {
   "cell_type": "markdown",
   "metadata": {
    "id": "CnrfZR_KGGoJ"
   },
   "source": [
    "### 데이터에 레이블이 없는 경우\n",
    "\n",
    "감성을 분류하기 위해 입력 텍스트에 레이블(클래스)을 할당\n",
    "\n",
    "- 제로샷 분류: 레이블이 없는 데이터로 작업 가능성을 가늠해 봄\n",
    "  - 레이블 정의는 알지만 레이블이 없는 경우\n",
    "  - 해당 데이터로 훈련되지 않았더라도 입력 데이터 레이블 예측 가능\n",
    "  - 여기서는 긍정적 리뷰, 부정적 리뷰로 타깃 레이블 생성"
   ]
  },
  {
   "cell_type": "code",
   "execution_count": 51,
   "metadata": {
    "id": "hAD8j7D8GJMV"
   },
   "outputs": [],
   "source": [
    "label_embeddings = model.encode([\"negative review\", \"positive review\"])\n",
    "# negative, positive 순서가 바뀌면 매우 안 좋은 결과 반환 / 0.22"
   ]
  },
  {
   "cell_type": "markdown",
   "metadata": {
    "id": "WeoHcmbBGL1J"
   },
   "source": [
    "- 코사인 유사도: 두 벡터 사이 각도의 코사인 값을 이용하여 유사도 판단\n",
    "- 코사인 유사도를 계산하고 가장 높은 값을 골라 유사도 분석"
   ]
  },
  {
   "cell_type": "code",
   "execution_count": 52,
   "metadata": {
    "id": "1v1F-uURGMRk"
   },
   "outputs": [],
   "source": [
    "from sklearn.metrics.pairwise import cosine_similarity\n",
    "\n",
    "similarity_matrix = cosine_similarity(test_embeddings, label_embeddings)\n",
    "y_pred = np.argmax(similarity_matrix, axis=1)"
   ]
  },
  {
   "cell_type": "code",
   "execution_count": 53,
   "metadata": {
    "colab": {
     "base_uri": "https://localhost:8080/"
    },
    "id": "iF8abN8QGRXc",
    "outputId": "7d4abae6-ec12-44cd-9a20-bcbbc9ee4725"
   },
   "outputs": [
    {
     "name": "stdout",
     "output_type": "stream",
     "text": [
      "                 precision    recall  f1-score   support\n",
      "\n",
      "Negative Review       0.77      0.77      0.77       533\n",
      "Positive Review       0.77      0.77      0.77       533\n",
      "\n",
      "       accuracy                           0.77      1066\n",
      "      macro avg       0.77      0.77      0.77      1066\n",
      "   weighted avg       0.77      0.77      0.77      1066\n",
      "\n"
     ]
    }
   ],
   "source": [
    "evaluate(data[\"test\"][\"label\"], y_pred)"
   ]
  },
  {
   "cell_type": "code",
   "execution_count": 56,
   "metadata": {
    "colab": {
     "base_uri": "https://localhost:8080/"
    },
    "id": "FwkRvszfLDhj",
    "outputId": "8a6693ea-e106-49aa-997b-4c88aba74d67"
   },
   "outputs": [
    {
     "name": "stdout",
     "output_type": "stream",
     "text": [
      "                 precision    recall  f1-score   support\n",
      "\n",
      "Negative Review       0.86      0.73      0.79       533\n",
      "Positive Review       0.76      0.88      0.82       533\n",
      "\n",
      "       accuracy                           0.80      1066\n",
      "      macro avg       0.81      0.80      0.80      1066\n",
      "   weighted avg       0.81      0.80      0.80      1066\n",
      "\n"
     ]
    }
   ],
   "source": [
    "# 강조해 보기\n",
    "label_embeddings = model.encode([\"A very negative movie review\", \"A very positive movie review\"])\n",
    "similarity_matrix = cosine_similarity(test_embeddings, label_embeddings)\n",
    "y_pred = np.argmax(similarity_matrix, axis=1)\n",
    "evaluate(data[\"test\"][\"label\"], y_pred)"
   ]
  },
  {
   "cell_type": "markdown",
   "metadata": {
    "id": "2K1z4wfcH6I1"
   },
   "source": [
    "- 결과\n",
    "  1. cosine_similarity: 0.80\n"
   ]
  },
  {
   "cell_type": "markdown",
   "metadata": {
    "id": "XGpejVReG8_p"
   },
   "source": [
    "## 생성 모델로 텍스트 분류\n",
    "\n",
    "- 작업에 특화된 모델은 시퀀스 투 밸류 모델로 값을 반환\n",
    "- 생성 모델은 시퀀스 투 시퀀스 모델로 다른 시퀀스를 생성\n",
    "\n",
    "- 아무 맥락 없이 영화 리뷰를 주면 문제를 수행하지 못하므로 맥락을 이해할 수 있도록 프롬프트를 제공해야 함\n",
    "- 프롬프트 엔지니어링: 원하는 출력을 얻도록 프롬프트를 반복적으로 개선하는 과정"
   ]
  },
  {
   "cell_type": "markdown",
   "metadata": {
    "id": "PNJ9uyS0G9c8"
   },
   "source": [
    "### T5 모델 사용\n",
    "\n",
    "- 12개 인코더, 12개 디코더로 구성\n",
    "- 사전 훈련: 마스크드 언어 모델링\n",
    "- 미세 튜닝: 각 작업을 시퀀스-투-시퀀스 작업으로 변환 + 훈련\n",
    "- GPT 모델과 비슷한 수준으로 명령 따름"
   ]
  },
  {
   "cell_type": "code",
   "execution_count": 41,
   "metadata": {
    "colab": {
     "base_uri": "https://localhost:8080/",
     "height": 258,
     "referenced_widgets": [
      "c55aebd9fbbb4e6d93f6754751a84909",
      "786d4106bdec4662b386f084d550f6b8",
      "fb09225107e5414e92a417bb13471bbd",
      "4764cc92f7f44ed9b5a796863c3d05e8",
      "1934c4fa8cb74346864f22bd4c67c088",
      "28b8d78415c84e35bd95c31a39c7213a",
      "d6d51069808e435c998cd428b7c36031",
      "a173a757d5b94b8aaeab6e0707e4cbaf",
      "690c7262e5ba4a83afb60389f876b57a",
      "1f9470618ea14b10835c87f87a59f2ce",
      "d2895596fe0d4efd8bfee484d5be3fe7",
      "353939fc372641a592eaf36f40985503",
      "f1d871ccc8144a98a22ec34a8ae9fcab",
      "a70ffe4fd08f44858aa0d39499d4e50c",
      "9c184d6536bf4d94bb9eebaf6434b5cc",
      "ffc1e97250484592bfbaec60674b461a",
      "bf4b77800a0545d58c6fdf9bf29a5f3e",
      "cbac86ebc1a9464a8f62e2cdef1be6d5",
      "0cb6f566efb34007beec33e1bd161047",
      "dbe209180af542fe846b5e931b21a5c4",
      "f24dc17098144bc882dcba151082ef88",
      "f46e73de29aa44e0b1bda55363e87b17",
      "702a0b72ed8c4fc3b213569f02bc3dba",
      "b28fe2d5851e4e70aff666bb46151796",
      "bf5039cf128c4ba2b59e02042856b8e8",
      "1865c3973b5348b88bbfe5d4dacc34fb",
      "b76521c7a5bc4ca8b16c88af1e929a41",
      "6884fb4629eb4458b6149ba77ed1353e",
      "9b20ff42bd1a43fcad40b9d1ad7f92a3",
      "a8ccbb2b9c154fb892a60e0cc39c8685",
      "e87df6fac36a4ea3b254d5557ad31126",
      "633b5a03c6554cab88c15dbef60360af",
      "324adb615fcb445087bf5f9328fdc287",
      "3966fdec866b476bb11dcb093ac7f7c1",
      "e2cc9ea4f58d4be9bf8bda6f70df7b97",
      "7dcb54bd2e404490960186aa22a77552",
      "80a8262dd0da45658c90e434fd9dad2c",
      "065b9d0fca1444dd8adceb3514de00b6",
      "4f65c69741c44dc9b9abd1e4a1a7c38b",
      "075a3da772a5483dae715210df4a7b5e",
      "6d3191b497c24299887c003a91c2b60b",
      "d06d90de3a5c460c8c057643faddfd80",
      "88ad123374b9499e843801457e88652d",
      "b07d22c6ea3144b1b871c07a6f949e14",
      "b3345ca104d143e58932640b1bcd2563",
      "bd1d5e5272c14f688f83e88afd05f22c",
      "d7def7598f3a4f2f8a485abef6ffa81c",
      "cacaf4b8c6094e1e88ba5df2dad2597c",
      "604b429cd0fc4fe289a922ef9fc69a4e",
      "1d0e00b92fe547a2973559f2b4c70eb3",
      "202a1e450f404f4699ff0f54399e6ab6",
      "e7318bfb12d84c06b66aff7e706675a4",
      "41e059f082c941b9b8fdb3246f7c4c48",
      "650901091fbb4b3bb3f301c1313e770d",
      "5bf96cc57d18490f8d582cef517270b6",
      "7db069b691244ea08ec4c3dbe55b5a77",
      "b7a18336fe4a4610884f2c64cbadd5a3",
      "1c6d282ccf204a03baa6926dbd5c8b93",
      "5d5bd4f9a592467ba7f7817943b3ffc3",
      "7077909040ac490c95b6f876884f10fd",
      "2fa1bcd6290c4899abf008d7ec3d704c",
      "1138f7f4a2f34a3698a5b268e386d9a3",
      "ddbc82a62c984df1a3ffba39c6637143",
      "d25ade17066943b488d8620a156b6bdc",
      "49c48809d22440849e523b781140c804",
      "559e4ab6cd2a4d8d87b8f6d98339562e",
      "d9b9c9dd07684e3dbd7fd52e51483c51",
      "052cba70a08c40208f13ed510dfdda8b",
      "229a3b67c47149afa69d7b3da2ebee20",
      "83f8d867be514315bbd5603ddc6d93d0",
      "65d62265b1e64b43a2fbd076cb21b27e",
      "9468f619ce9d4294a0cc43d37411b1c7",
      "0cd003fca5294541ae29cf944a96da5c",
      "0e08466646b34aaebc59e0463c390d14",
      "918b648de3d947d4943bc10abfab7d3b",
      "1deb5b15fcb3440c8251a8b26d43db3d",
      "6dccc7fe338f4e6fa60d80ef1ac0b89d"
     ]
    },
    "id": "sIhraHdVHA2_",
    "outputId": "629f1bb9-785c-4391-a66c-0b032556af94"
   },
   "outputs": [
    {
     "data": {
      "application/vnd.jupyter.widget-view+json": {
       "model_id": "c55aebd9fbbb4e6d93f6754751a84909",
       "version_major": 2,
       "version_minor": 0
      },
      "text/plain": [
       "config.json: 0.00B [00:00, ?B/s]"
      ]
     },
     "metadata": {},
     "output_type": "display_data"
    },
    {
     "data": {
      "application/vnd.jupyter.widget-view+json": {
       "model_id": "353939fc372641a592eaf36f40985503",
       "version_major": 2,
       "version_minor": 0
      },
      "text/plain": [
       "model.safetensors:   0%|          | 0.00/990M [00:00<?, ?B/s]"
      ]
     },
     "metadata": {},
     "output_type": "display_data"
    },
    {
     "data": {
      "application/vnd.jupyter.widget-view+json": {
       "model_id": "702a0b72ed8c4fc3b213569f02bc3dba",
       "version_major": 2,
       "version_minor": 0
      },
      "text/plain": [
       "generation_config.json:   0%|          | 0.00/147 [00:00<?, ?B/s]"
      ]
     },
     "metadata": {},
     "output_type": "display_data"
    },
    {
     "data": {
      "application/vnd.jupyter.widget-view+json": {
       "model_id": "3966fdec866b476bb11dcb093ac7f7c1",
       "version_major": 2,
       "version_minor": 0
      },
      "text/plain": [
       "tokenizer_config.json: 0.00B [00:00, ?B/s]"
      ]
     },
     "metadata": {},
     "output_type": "display_data"
    },
    {
     "data": {
      "application/vnd.jupyter.widget-view+json": {
       "model_id": "b3345ca104d143e58932640b1bcd2563",
       "version_major": 2,
       "version_minor": 0
      },
      "text/plain": [
       "spiece.model:   0%|          | 0.00/792k [00:00<?, ?B/s]"
      ]
     },
     "metadata": {},
     "output_type": "display_data"
    },
    {
     "data": {
      "application/vnd.jupyter.widget-view+json": {
       "model_id": "7db069b691244ea08ec4c3dbe55b5a77",
       "version_major": 2,
       "version_minor": 0
      },
      "text/plain": [
       "tokenizer.json: 0.00B [00:00, ?B/s]"
      ]
     },
     "metadata": {},
     "output_type": "display_data"
    },
    {
     "data": {
      "application/vnd.jupyter.widget-view+json": {
       "model_id": "d9b9c9dd07684e3dbd7fd52e51483c51",
       "version_major": 2,
       "version_minor": 0
      },
      "text/plain": [
       "special_tokens_map.json: 0.00B [00:00, ?B/s]"
      ]
     },
     "metadata": {},
     "output_type": "display_data"
    },
    {
     "name": "stderr",
     "output_type": "stream",
     "text": [
      "Device set to use cuda:0\n"
     ]
    }
   ],
   "source": [
    "pipe = pipeline(\n",
    "\t\"text2text-generation\",\n",
    "\tmodel=\"google/flan-t5-base\",\n",
    "\tdevice=\"cuda:0\",\n",
    ")"
   ]
  },
  {
   "cell_type": "code",
   "execution_count": 42,
   "metadata": {
    "colab": {
     "base_uri": "https://localhost:8080/",
     "height": 356,
     "referenced_widgets": [
      "638bf8c363c04ca9a22c598816a09103",
      "848d19c3ab5143eba9b55878903a7106",
      "739bf1e8c58d4bcfbb84553ac6b321ff",
      "2aa2719e413048f9bba1672bf055f124",
      "bbadf3acdd35400abd121d6fa6c2e088",
      "8053bb7fb5b84d64b5fe8ccad5a7ed6a",
      "ea62b7fd1f8d4bccada16f92b09cc390",
      "be7fa2fb466b4168a83a77e9de0c624e",
      "877194f0d8c242a8962f3ab86055967d",
      "dd9a6812a2b145ffb5b20470e5a9df21",
      "9bbe3790ce744e92a825d4c328a58824",
      "9249bbb6588b4b12bb8aef8af7a10a93",
      "ae719409f551455a8b255c72a2acffaa",
      "24cd11cf61eb41f98d18fcb64bb43663",
      "317390454d3b4faa9b199dd5180ea1c0",
      "531ac20e223e43c49410789e604d808c",
      "8339323857e54e589488cd92477dda85",
      "655fc44a18804b65b5394ecb631fe29d",
      "ca83fb5e28d34604b9950056f1cab3eb",
      "2b478cf92c7045fb8600e45544d0212e",
      "4e5cd393d00f431bb63f5e8ff3ae67a7",
      "43a0869c85284c069259a8a561cf2cad",
      "c7cd0fa76c7d4e5ca75c5b480a140264",
      "3ddf8fd854b54d9a886751f181f090e3",
      "f59861186be241cb944a8d07afea6d65",
      "a87fe65fe8aa4b4daf04759c1e0a58e4",
      "9b0a1764ae754880979ad7abb44922ba",
      "5a65176db977443f8281e80fdf598d5c",
      "09c2a29afea3496eb4d14d5514966b97",
      "5b15cae5949b4dbf824f96a9b146def7",
      "6f4e0154227a4de28a116c57c33f7295",
      "9b04750f33c9488381779eceb209ff04",
      "7de380c87f414ef4aac06be433bf6976"
     ]
    },
    "id": "qJZY9L4cHCtK",
    "outputId": "5629405b-affe-488f-e215-d3caf87f2dba"
   },
   "outputs": [
    {
     "data": {
      "application/vnd.jupyter.widget-view+json": {
       "model_id": "638bf8c363c04ca9a22c598816a09103",
       "version_major": 2,
       "version_minor": 0
      },
      "text/plain": [
       "Map:   0%|          | 0/8530 [00:00<?, ? examples/s]"
      ]
     },
     "metadata": {},
     "output_type": "display_data"
    },
    {
     "data": {
      "application/vnd.jupyter.widget-view+json": {
       "model_id": "9249bbb6588b4b12bb8aef8af7a10a93",
       "version_major": 2,
       "version_minor": 0
      },
      "text/plain": [
       "Map:   0%|          | 0/1066 [00:00<?, ? examples/s]"
      ]
     },
     "metadata": {},
     "output_type": "display_data"
    },
    {
     "data": {
      "application/vnd.jupyter.widget-view+json": {
       "model_id": "c7cd0fa76c7d4e5ca75c5b480a140264",
       "version_major": 2,
       "version_minor": 0
      },
      "text/plain": [
       "Map:   0%|          | 0/1066 [00:00<?, ? examples/s]"
      ]
     },
     "metadata": {},
     "output_type": "display_data"
    },
    {
     "data": {
      "text/plain": [
       "DatasetDict({\n",
       "    train: Dataset({\n",
       "        features: ['text', 'label', 't5'],\n",
       "        num_rows: 8530\n",
       "    })\n",
       "    validation: Dataset({\n",
       "        features: ['text', 'label', 't5'],\n",
       "        num_rows: 1066\n",
       "    })\n",
       "    test: Dataset({\n",
       "        features: ['text', 'label', 't5'],\n",
       "        num_rows: 1066\n",
       "    })\n",
       "})"
      ]
     },
     "execution_count": 42,
     "metadata": {},
     "output_type": "execute_result"
    }
   ],
   "source": [
    "# 생성 모델이므로 프롬프트 추가해야 함\n",
    "prompt = \"Is the following sentence positive or negative? \"\n",
    "data = data.map(lambda example: {\"t5\": prompt + example[\"text\"]})\n",
    "data"
   ]
  },
  {
   "cell_type": "code",
   "execution_count": 45,
   "metadata": {
    "colab": {
     "base_uri": "https://localhost:8080/"
    },
    "id": "f_CR59eAHHbl",
    "outputId": "eb7f82d6-f55a-4c15-ee71-4aba9f8f8cb7"
   },
   "outputs": [
    {
     "name": "stderr",
     "output_type": "stream",
     "text": [
      "100%|██████████| 1066/1066 [01:46<00:00,  9.98it/s]\n"
     ]
    }
   ],
   "source": [
    "y_pred = []\n",
    "for output in tqdm(pipe(KeyDataset(data[\"test\"], \"t5\")), total=len(data[\"test\"])):\n",
    "\ttext = output[0][\"generated_text\"]\n",
    "\ty_pred.append(0 if \"negative\" in text else 1)"
   ]
  },
  {
   "cell_type": "code",
   "execution_count": 46,
   "metadata": {
    "colab": {
     "base_uri": "https://localhost:8080/"
    },
    "id": "u-NWWjXnKGcr",
    "outputId": "9bc80dad-ca8a-49c2-897a-9f7b22abc2b3"
   },
   "outputs": [
    {
     "name": "stdout",
     "output_type": "stream",
     "text": [
      "                 precision    recall  f1-score   support\n",
      "\n",
      "Negative Review       0.87      0.92      0.89       533\n",
      "Positive Review       0.91      0.86      0.88       533\n",
      "\n",
      "       accuracy                           0.89      1066\n",
      "      macro avg       0.89      0.89      0.89      1066\n",
      "   weighted avg       0.89      0.89      0.89      1066\n",
      "\n"
     ]
    }
   ],
   "source": [
    "evaluate(data[\"test\"][\"label\"], y_pred)"
   ]
  },
  {
   "cell_type": "markdown",
   "metadata": {
    "id": "NBvC47COKg6o"
   },
   "source": [
    "- 결과\n",
    "  1. T5 모델: 0.89"
   ]
  },
  {
   "cell_type": "markdown",
   "metadata": {
    "id": "8fMDbxVAHK-L"
   },
   "source": [
    "### ChatGPT 사용\n",
    "\n",
    "- Closed 소스 모델로 구조는 알려지지 않았지만 이름에서 디코더 기반으로 추측\n",
    "- 사전 훈련: 지시 튜닝 - 입력 프롬프트와 기대 출력 제공하여 프롬프트 바탕으로 출력 생성\n",
    "- 미세 튜닝: 선호도 튜닝 - 만들어진 모델로 출력을 생성하여 수동으로 순위를 매기고 이를 사용하여 최종 모델 생성\n",
    "\n",
    "- 유료 API라 여기서는 테스트하지 않았지만 저자의 테스트에 따르면 GPT-3.5 모델 F1 점수는 0.92\n",
    "- 훈련된 데이터를 알지 못하므로 정확한 평가는 불가(모델이 이 데이터셋에서 훈련되었을 수 있음)"
   ]
  }
 ],
 "metadata": {
  "accelerator": "GPU",
  "colab": {
   "authorship_tag": "ABX9TyN2/HtSyhHYpxe411wdEsT2",
   "gpuType": "T4",
   "include_colab_link": true,
   "provenance": []
  },
  "kernelspec": {
   "display_name": "Python 3",
   "name": "python3"
  },
  "language_info": {
   "name": "python"
  }
 },
 "nbformat": 4,
 "nbformat_minor": 0
}
