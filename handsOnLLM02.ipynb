{
 "cells": [
  {
   "cell_type": "markdown",
   "metadata": {
    "colab_type": "text",
    "id": "view-in-github"
   },
   "source": [
    "<a href=\"https://colab.research.google.com/github/LeeSeungYun1020/HandsOnLargeLanguageModels/blob/main/handsOnLLM02.ipynb\" target=\"_parent\"><img src=\"https://colab.research.google.com/assets/colab-badge.svg\" alt=\"Open In Colab\"/></a>"
   ]
  },
  {
   "cell_type": "markdown",
   "metadata": {
    "id": "ADQ1UKCjzGp8"
   },
   "source": [
    "# 토큰과 임베딩"
   ]
  },
  {
   "cell_type": "markdown",
   "metadata": {
    "id": "8VA5Ri_Nye-_"
   },
   "source": [
    "핸즈온 LLM 2장\n",
    "- LLM 사용 시 중심 개념인 토큰과 임베딩\n",
    "- 작동 원리와 구축 방법 이해"
   ]
  },
  {
   "cell_type": "markdown",
   "metadata": {
    "id": "pRO-Py7uzjNj"
   },
   "source": []
  },
  {
   "cell_type": "markdown",
   "metadata": {
    "id": "fmkcQRmUzkTd"
   },
   "source": [
    "## LLM 토큰화"
   ]
  },
  {
   "cell_type": "markdown",
   "metadata": {
    "id": "IfcHlAnz6Dog"
   },
   "source": [
    "### 다운로드하고 실행하기"
   ]
  },
  {
   "cell_type": "code",
   "execution_count": 2,
   "metadata": {
    "id": "KFGL7Kp1yPn3"
   },
   "outputs": [],
   "source": [
    "from transformers import AutoModelForCausalLM, AutoTokenizer"
   ]
  },
  {
   "cell_type": "code",
   "execution_count": 3,
   "metadata": {
    "colab": {
     "base_uri": "https://localhost:8080/",
     "height": 464,
     "referenced_widgets": [
      "e5f941dcd9924b57b370cc916feee6d5",
      "26dcc43d47c9442dacf9dfae83013ff3",
      "fbb4f7a2264c4278acf242735e726ce0",
      "b92f502adbec4b03ae86e90d636f4dff",
      "03605a23e88648d1ba50dee1ce928521",
      "dfc21a8d7d344a0b84bacd62c6f28446",
      "d7e6fe36c2f34dd0b965d225f41305f3",
      "76d5dadf111e4595b4735443a93438db",
      "e3d6e2a51d424199bcc63370e752672f",
      "3799e2b20af54b16a0cb0854f27bc909",
      "04db2fb06b884a599c29171027c129d2",
      "184a85493b3b4248a4b45fc96805c581",
      "93231deaaac14ffaa2ab98c804577bff",
      "946d0dbe5c424a1b9dfe59cec933952b",
      "2b9550492ba64594ae3c55d9eacf1ff5",
      "8e779b698fe84be6a30901a215781fae",
      "a69e924ee18e451e85aeb785315c093a",
      "865934cc29cb48ee9cd33c348db845b3",
      "02d92e0cdd1c4973bb9a7f5e54a6de33",
      "ce46b114b2574456b21ee4ef72678980",
      "ae00212542ba4b6c9375ab1b54a5b368",
      "8abfa64f72444a288838e5d187980711",
      "98d9adf2630e4eb49223a8a646e41276",
      "ad6b7f27dfd14b20a16e2512b4bf42b9",
      "c5224ffd5e794ac9be0018e61096fc37",
      "87dfa4b5571a45a3acb9ca845e3e0ac1",
      "70041f1523264af5b571339c180ca179",
      "072f4075079a49439cc6b84b79b33a51",
      "9ed90a4e6aae49e3b9fb2981f1e7d1ad",
      "0ad1cf14b2ee491b8be8c25cc5b7476a",
      "918d4bd998d6450b8daef7de87a148cd",
      "45a63b326fc64d4787b0bc4df6a269e3",
      "088641ef036f46f8bbfc0f49638ed313",
      "287db25dd5c3411c976c3fa42130d215",
      "2e8cb61b41244614a7ecd8e117c9c7b7",
      "72fb6fd3bec84f21af562dc41a8e14dd",
      "2db915fed8d94b8b95fa14c63d64b697",
      "bfb697caba734fdba1eee23b69959629",
      "b4f278142729472788eab9eb6d34ae62",
      "d742da548e56490c88b2954064537204",
      "f01082a16b5a4d28b10046489be5b324",
      "d9f651a99ba0442ea92f5e683c8a32d8",
      "94d70075f58d4fd3b3202a05b65aac60",
      "c05cfbbdfa06484ab65025c3fc6e4dac",
      "062affdd5a6844fc8a74b3b719f05d82",
      "d566488de0424f669f1dc41f12f2b854",
      "b910993d0b3a413fb5d51af42b87954c",
      "c8e8f6c0c4114d2f8ca86bbe1e65e924",
      "c51f13c6483b42e58d4d39e3dd47a751",
      "fede641b2c7f47adb68ee058c6795fe1",
      "678d58db000c417dbc7f996184a4ed32",
      "ff08e84b643d44b4b5e18dd9251f1c2d",
      "b875e71a01344faf81d2ebb32c223fbe",
      "7e71efd2f28445129ce8e41a5a5e21c2",
      "7c1bf9dcab3b443ca1dbba441fa9422f",
      "b5ddb595e9ae48008c9d592db0f92cfb",
      "d1309beddf8b432fb578dca2e093755f",
      "d317d6a7d29c40a7b9071d7a3a0e9d36",
      "c17d0fda786d4488b964f5575d8867e4",
      "5c617d4499f54b1da033c01bcfcd9f9e",
      "4c52e16be89e4087b6175d472d04145a",
      "6813724009b84f21bedbe011739db578",
      "e34f434b0d1b4381a76a6470c6dfd387",
      "86e263f99fa74739a7249432dede2c12",
      "b2a909440dda48829d48b2eb3282634b",
      "aeb795857ff64591ba0034212532446d",
      "dbbfa9345c4f4b56ae6f4dbdb2d488d6",
      "f380379f09e547af8c13b2e6437b3536",
      "134e724b21bd43308c3fffc3d710d245",
      "6d31c6f207d0471a87f779cc36d6ae36",
      "714215b6d97642c399113462299824b7",
      "9eff2835e08647cf865563bff1e621ef",
      "da73368875c6446e90e185939f3493fd",
      "b7ac5587e4ef4c54b58cafc7edac84b2",
      "6c1a1bee17214cd580c0c229c3aa9838",
      "06c65cf00d4f4f329c8030342e71ac5e",
      "c2449050ce504ee6aee29364b8d7688d",
      "28db879e14974aee8635cb7cd5fe4ac3",
      "1773d1c3f6a445e6a37a5c012bd71d19",
      "461520be0d4d4801aeb7336f01d2d34e",
      "347803ebcb6642d0b13823779f62e7da",
      "61beee0db0c042529f13a79814d26624",
      "af13625528584d3d860aace1b49cf8f1",
      "25a0131b53ff4cdbae81e1f3b14af344",
      "d9cbd09632a747c89d373fc59ad58834",
      "d0fe45ef4b93432cad8b9c80e967f5ce",
      "8cc5f88df02d4fcf86454f9fe1c499d2",
      "16c1764916f847e393082589491b0576",
      "61decede3c0145f1b343399e9713a20f",
      "81c6aa94ff4742f79df7d713eff5610e",
      "6cbc1ca3d5af48a28a468ae039120bcf",
      "9c2b4ad253f54dc6a52c726e051b9250",
      "9e521139db4a4054b7b3b1978fb13ca8",
      "862a13f1348d49b284b2b3a2264ba80e",
      "de56e22e501a4d4abf53449b354b0313",
      "585bbbc3c6cf4a8c9efc93bb997a66f3",
      "d323427b5930476f86a93d748f3f2528",
      "0894fc39fe47428991b080978303be56",
      "bd43051b488d4191a19ceee7f7934fa6"
     ]
    },
    "id": "AsOyT40Uz5mP",
    "outputId": "f0d1cad3-4053-4e60-c80b-485d5a46d459"
   },
   "outputs": [
    {
     "data": {
      "application/vnd.jupyter.widget-view+json": {
       "model_id": "e5f941dcd9924b57b370cc916feee6d5",
       "version_major": 2,
       "version_minor": 0
      },
      "text/plain": [
       "config.json:   0%|          | 0.00/967 [00:00<?, ?B/s]"
      ]
     },
     "metadata": {},
     "output_type": "display_data"
    },
    {
     "data": {
      "application/vnd.jupyter.widget-view+json": {
       "model_id": "184a85493b3b4248a4b45fc96805c581",
       "version_major": 2,
       "version_minor": 0
      },
      "text/plain": [
       "configuration_phi3.py: 0.00B [00:00, ?B/s]"
      ]
     },
     "metadata": {},
     "output_type": "display_data"
    },
    {
     "name": "stderr",
     "output_type": "stream",
     "text": [
      "A new version of the following files was downloaded from https://huggingface.co/microsoft/Phi-3-mini-4k-instruct:\n",
      "- configuration_phi3.py\n",
      ". Make sure to double-check they do not contain any added malicious code. To avoid downloading new versions of the code file, you can pin a revision.\n"
     ]
    },
    {
     "data": {
      "application/vnd.jupyter.widget-view+json": {
       "model_id": "98d9adf2630e4eb49223a8a646e41276",
       "version_major": 2,
       "version_minor": 0
      },
      "text/plain": [
       "modeling_phi3.py: 0.00B [00:00, ?B/s]"
      ]
     },
     "metadata": {},
     "output_type": "display_data"
    },
    {
     "name": "stderr",
     "output_type": "stream",
     "text": [
      "A new version of the following files was downloaded from https://huggingface.co/microsoft/Phi-3-mini-4k-instruct:\n",
      "- modeling_phi3.py\n",
      ". Make sure to double-check they do not contain any added malicious code. To avoid downloading new versions of the code file, you can pin a revision.\n",
      "WARNING:transformers_modules.microsoft.Phi-3-mini-4k-instruct.0a67737cc96d2554230f90338b163bc6380a2a85.modeling_phi3:`flash-attention` package not found, consider installing for better performance: No module named 'flash_attn'.\n",
      "WARNING:transformers_modules.microsoft.Phi-3-mini-4k-instruct.0a67737cc96d2554230f90338b163bc6380a2a85.modeling_phi3:Current `flash-attention` does not support `window_size`. Either upgrade or use `attn_implementation='eager'`.\n"
     ]
    },
    {
     "data": {
      "application/vnd.jupyter.widget-view+json": {
       "model_id": "287db25dd5c3411c976c3fa42130d215",
       "version_major": 2,
       "version_minor": 0
      },
      "text/plain": [
       "model.safetensors.index.json: 0.00B [00:00, ?B/s]"
      ]
     },
     "metadata": {},
     "output_type": "display_data"
    },
    {
     "data": {
      "application/vnd.jupyter.widget-view+json": {
       "model_id": "062affdd5a6844fc8a74b3b719f05d82",
       "version_major": 2,
       "version_minor": 0
      },
      "text/plain": [
       "Fetching 2 files:   0%|          | 0/2 [00:00<?, ?it/s]"
      ]
     },
     "metadata": {},
     "output_type": "display_data"
    },
    {
     "data": {
      "application/vnd.jupyter.widget-view+json": {
       "model_id": "b5ddb595e9ae48008c9d592db0f92cfb",
       "version_major": 2,
       "version_minor": 0
      },
      "text/plain": [
       "model-00001-of-00002.safetensors:   0%|          | 0.00/4.97G [00:00<?, ?B/s]"
      ]
     },
     "metadata": {},
     "output_type": "display_data"
    },
    {
     "data": {
      "application/vnd.jupyter.widget-view+json": {
       "model_id": "dbbfa9345c4f4b56ae6f4dbdb2d488d6",
       "version_major": 2,
       "version_minor": 0
      },
      "text/plain": [
       "model-00002-of-00002.safetensors:   0%|          | 0.00/2.67G [00:00<?, ?B/s]"
      ]
     },
     "metadata": {},
     "output_type": "display_data"
    },
    {
     "data": {
      "application/vnd.jupyter.widget-view+json": {
       "model_id": "28db879e14974aee8635cb7cd5fe4ac3",
       "version_major": 2,
       "version_minor": 0
      },
      "text/plain": [
       "Loading checkpoint shards:   0%|          | 0/2 [00:00<?, ?it/s]"
      ]
     },
     "metadata": {},
     "output_type": "display_data"
    },
    {
     "data": {
      "application/vnd.jupyter.widget-view+json": {
       "model_id": "61decede3c0145f1b343399e9713a20f",
       "version_major": 2,
       "version_minor": 0
      },
      "text/plain": [
       "generation_config.json:   0%|          | 0.00/181 [00:00<?, ?B/s]"
      ]
     },
     "metadata": {},
     "output_type": "display_data"
    }
   ],
   "source": [
    "model = AutoModelForCausalLM.from_pretrained(\"microsoft/Phi-3-mini-4k-instruct\", device_map=\"cuda\", torch_dtype=\"auto\", trust_remote_code=True)"
   ]
  },
  {
   "cell_type": "code",
   "execution_count": 4,
   "metadata": {
    "colab": {
     "base_uri": "https://localhost:8080/",
     "height": 177,
     "referenced_widgets": [
      "d03085933ff54a0d9ef7845aa1ded589",
      "9ee49c4674cf44429fe007b46eeed510",
      "f250fca2213e4815bf1b1c27cb8359d8",
      "e681931d9cdf4416a7b50b34de2a1bee",
      "772068aa8f5e4c7a8fbec1bbaae4ae66",
      "610543462d9a4ff0b12ad8de4720579d",
      "20d9c8083bfe44ff9292c4cbf7f86ed4",
      "a29d13ef883c454c91a47f4bfd393723",
      "c9e3d22ba1ee42dc8b4014226f992d55",
      "f69082603b1540ce9442256aa70b1def",
      "b248604a1d74409b9dc12d1cbefc0332",
      "2d6729d3dd3c4a938386e00db7d7b441",
      "f22a8c4ea53542c5a49a8a528cd4e455",
      "1ab9fc025ab642cabaedcb1bc02fb3bb",
      "6ccf289e6d564e6c8f3dd27d9570d2a0",
      "e1f4644736ca40cbb1743c229a1a62ca",
      "2a42892fda33464e9aec06b54f64f8fd",
      "0c71310777e0476a9d464336bd365afd",
      "e9c90afa2cdf49b688e316bb8e162563",
      "883efd7414ce4653a5037e4d80a8e9c5",
      "b7dcb7e09e444864be6787b6ac51447e",
      "25ec3ed3a0fa44bba7f9142eaeca250b",
      "881924008e964101a498f6348038a5b8",
      "0aa3d4bf7ba74b5fba21a71c59fb7e2b",
      "8f51b66ecbea4b52a5ae7032225d27cf",
      "e689bb133ffc45e78526674529545d5e",
      "8b6d053d99694166aee3cdb42349a9d7",
      "a1499d7602cd4b78aceaf67ee32558b5",
      "44dcc70110b34788ac9b248be6d6a43d",
      "deccd4c6495c467bb7e4c4469bbf86e4",
      "fbd8f156143945aeb6dd1c9d42360951",
      "6c7e3eac7ec74f95b2dfbbed25808e55",
      "e28864343122473fb6641d0d5c80afee",
      "3fbb03067af14b9e8dcd76f4f010083a",
      "ead1a1aa94a44feb91d51aa0b9eda9de",
      "75dea867d7a14fe993e6a8ae20eaa5e5",
      "7b0c586ab8794bc3bac0798bd26ad817",
      "4439d507803949c38e17ec05063d4225",
      "46f0032fb5aa4a3b9390a1f47a53cf4f",
      "b332f150dfe4407e9e0c4d0a16ca81dc",
      "3107068b1162464d9354d5d3eec87ec0",
      "8c7e186ccd9c4852851e606eaa968e69",
      "244d1b6e5f914d28bc3434d45fdd0935",
      "411996c3fe114e62ab3a6fc76958d31a",
      "c36576b7ebd348f9b9bfe72ba08ee110",
      "7c79959a7ccd4a48b9b05aa5123898a0",
      "f44f6f3c7569485689f330896a51b6b4",
      "531863ad4bf84be6a6d6cdb3a714947f",
      "1fa84fa5e72a4c22aa3fe693033dd92c",
      "d916ec5d2bc647ee8afe1ce03e8034a4",
      "4e8f5c67bc1b44deb28fc46b8886e05c",
      "4e054a93269142e18c23c5402d5ac902",
      "fbf666c44401480ab3cc468852fe17b3",
      "62c2e2c287fa4e13bc9a499914a98cb8",
      "34dea2a427124200b9a004663208aed1"
     ]
    },
    "id": "zMKGlQQB0ZQU",
    "outputId": "b5920110-90ac-4433-aebf-945526344a4c"
   },
   "outputs": [
    {
     "data": {
      "application/vnd.jupyter.widget-view+json": {
       "model_id": "d03085933ff54a0d9ef7845aa1ded589",
       "version_major": 2,
       "version_minor": 0
      },
      "text/plain": [
       "tokenizer_config.json: 0.00B [00:00, ?B/s]"
      ]
     },
     "metadata": {},
     "output_type": "display_data"
    },
    {
     "data": {
      "application/vnd.jupyter.widget-view+json": {
       "model_id": "2d6729d3dd3c4a938386e00db7d7b441",
       "version_major": 2,
       "version_minor": 0
      },
      "text/plain": [
       "tokenizer.model:   0%|          | 0.00/500k [00:00<?, ?B/s]"
      ]
     },
     "metadata": {},
     "output_type": "display_data"
    },
    {
     "data": {
      "application/vnd.jupyter.widget-view+json": {
       "model_id": "881924008e964101a498f6348038a5b8",
       "version_major": 2,
       "version_minor": 0
      },
      "text/plain": [
       "tokenizer.json: 0.00B [00:00, ?B/s]"
      ]
     },
     "metadata": {},
     "output_type": "display_data"
    },
    {
     "data": {
      "application/vnd.jupyter.widget-view+json": {
       "model_id": "3fbb03067af14b9e8dcd76f4f010083a",
       "version_major": 2,
       "version_minor": 0
      },
      "text/plain": [
       "added_tokens.json:   0%|          | 0.00/306 [00:00<?, ?B/s]"
      ]
     },
     "metadata": {},
     "output_type": "display_data"
    },
    {
     "data": {
      "application/vnd.jupyter.widget-view+json": {
       "model_id": "c36576b7ebd348f9b9bfe72ba08ee110",
       "version_major": 2,
       "version_minor": 0
      },
      "text/plain": [
       "special_tokens_map.json:   0%|          | 0.00/599 [00:00<?, ?B/s]"
      ]
     },
     "metadata": {},
     "output_type": "display_data"
    }
   ],
   "source": [
    "tokenizer = AutoTokenizer.from_pretrained(\"microsoft/Phi-3-mini-4k-instruct\")"
   ]
  },
  {
   "cell_type": "code",
   "execution_count": 5,
   "metadata": {
    "colab": {
     "base_uri": "https://localhost:8080/"
    },
    "id": "CQkyRzjE0m2t",
    "outputId": "f6f88dbb-eb41-493d-c27e-01d2e7b9b3b8"
   },
   "outputs": [
    {
     "data": {
      "text/plain": [
       "tensor([[14350,   385,  4876, 27746,  5281,   304, 19235,   363,   278, 25305,\n",
       "           293, 16423,   292,   286,   728,   481, 29889, 12027,  7420,   920,\n",
       "           372,  9559, 29889, 29871, 32001]], device='cuda:0')"
      ]
     },
     "execution_count": 5,
     "metadata": {},
     "output_type": "execute_result"
    }
   ],
   "source": [
    "prompt = \"Write an email apologizing to Sarah for the tragic gardening mishap. Explain how it happened. <|assistant|>\"\n",
    "\n",
    "input_ids = tokenizer(prompt, return_tensors=\"pt\").input_ids.to(\"cuda\")\n",
    "input_ids"
   ]
  },
  {
   "cell_type": "code",
   "execution_count": 6,
   "metadata": {
    "colab": {
     "base_uri": "https://localhost:8080/"
    },
    "id": "ssD_YiVm2kvX",
    "outputId": "839d286a-4dd3-4b5d-8d8c-dc5e548c27b3"
   },
   "outputs": [
    {
     "name": "stdout",
     "output_type": "stream",
     "text": [
      "Write\n",
      "an\n",
      "email\n",
      "apolog\n",
      "izing\n",
      "to\n",
      "Sarah\n",
      "for\n",
      "the\n",
      "trag\n",
      "ic\n",
      "garden\n",
      "ing\n",
      "m\n",
      "ish\n",
      "ap\n",
      ".\n",
      "Exp\n",
      "lain\n",
      "how\n",
      "it\n",
      "happened\n",
      ".\n",
      "\n",
      "<|assistant|>\n"
     ]
    }
   ],
   "source": [
    "for id in input_ids[0]:\n",
    "  print(tokenizer.decode(id))"
   ]
  },
  {
   "cell_type": "code",
   "execution_count": 10,
   "metadata": {
    "colab": {
     "base_uri": "https://localhost:8080/"
    },
    "id": "6Mru2Gwj3RmF",
    "outputId": "8bcf3a32-38df-4ebb-ee85-7a2381676f7b"
   },
   "outputs": [
    {
     "name": "stdout",
     "output_type": "stream",
     "text": [
      "Exp\n",
      "lain\n",
      "Explain\n",
      ":\n"
     ]
    }
   ],
   "source": [
    "print(tokenizer.decode(12027))\n",
    "print(tokenizer.decode(7420))\n",
    "print(tokenizer.decode([12027, 7420]))\n",
    "print(tokenizer.decode(29901))"
   ]
  },
  {
   "cell_type": "code",
   "execution_count": 15,
   "metadata": {
    "colab": {
     "base_uri": "https://localhost:8080/"
    },
    "id": "VZuCFNf62Lm_",
    "outputId": "aeb5f968-94bd-4781-d63c-bbee5b7c454b"
   },
   "outputs": [
    {
     "data": {
      "text/plain": [
       "tensor([[14350,   385,  4876, 27746,  5281,   304, 19235,   363,   278, 25305,\n",
       "           293, 16423,   292,   286,   728,   481, 29889, 12027,  7420,   920,\n",
       "           372,  9559, 29889, 29871, 32001,  3323,   622, 29901,   317,  3742,\n",
       "           406,  6225, 11763,   363,   278, 19906,   292,   341,   728,   481,\n",
       "            13,    13,    13, 29928,   799]], device='cuda:0')"
      ]
     },
     "execution_count": 15,
     "metadata": {},
     "output_type": "execute_result"
    }
   ],
   "source": [
    "generation_output = model.generate(input_ids = input_ids, max_new_tokens=20, use_cache=False)\n",
    "generation_output"
   ]
  },
  {
   "cell_type": "code",
   "execution_count": 16,
   "metadata": {
    "colab": {
     "base_uri": "https://localhost:8080/",
     "height": 35
    },
    "id": "qoSGMc3Y2HbU",
    "outputId": "89c38fb0-f056-49c2-a77c-75b83b1ea5ce"
   },
   "outputs": [
    {
     "data": {
      "application/vnd.google.colaboratory.intrinsic+json": {
       "type": "string"
      },
      "text/plain": [
       "'Write an email apologizing to Sarah for the tragic gardening mishap. Explain how it happened. <|assistant|> Subject: Sincere Apologies for the Gardening Mishap\\n\\n\\nDear'"
      ]
     },
     "execution_count": 16,
     "metadata": {},
     "output_type": "execute_result"
    }
   ],
   "source": [
    "tokenizer.decode(generation_output[0])"
   ]
  },
  {
   "cell_type": "markdown",
   "metadata": {
    "id": "IY4zLnGK4u7D"
   },
   "source": [
    "### 훈련된 LLM 토크나이저 비교하기"
   ]
  },
  {
   "cell_type": "code",
   "execution_count": null,
   "metadata": {
    "id": "EOrl6wv540uU"
   },
   "outputs": [],
   "source": []
  },
  {
   "cell_type": "markdown",
   "metadata": {
    "id": "aN8jgS5e41E7"
   },
   "source": []
  },
  {
   "cell_type": "markdown",
   "metadata": {
    "id": "9_uYGQ2S5Eva"
   },
   "source": [
    "## 토큰 임베딩\n",
    "### 문맥을 고려한 단어 임베딩 만들기"
   ]
  },
  {
   "cell_type": "code",
   "execution_count": null,
   "metadata": {
    "id": "dZUs9Vcv5Hcr"
   },
   "outputs": [],
   "source": []
  },
  {
   "cell_type": "markdown",
   "metadata": {
    "id": "JL3ucuv15KsR"
   },
   "source": [
    "## 텍스트 임베딩\n",
    "### 텍스트 임베딩 변환하기"
   ]
  },
  {
   "cell_type": "code",
   "execution_count": null,
   "metadata": {
    "id": "HeTxy9xY5MV5"
   },
   "outputs": [],
   "source": []
  },
  {
   "cell_type": "markdown",
   "metadata": {
    "id": "LmJCkOwQ5Qol"
   },
   "source": [
    "## 단어 임베딩\n",
    "### 사전 훈련된 단어 임베딩 사용하기"
   ]
  },
  {
   "cell_type": "code",
   "execution_count": null,
   "metadata": {
    "id": "dXpp_9wf5Udt"
   },
   "outputs": [],
   "source": []
  },
  {
   "cell_type": "markdown",
   "metadata": {
    "id": "g3ESQzvD5U1n"
   },
   "source": [
    "## 추천 시스템에서 임베딩\n",
    "### 노래 추천 임베딩 모델 훈련하기"
   ]
  },
  {
   "cell_type": "code",
   "execution_count": null,
   "metadata": {
    "id": "DnTMgHVu5Z15"
   },
   "outputs": [],
   "source": []
  }
 ],
 "metadata": {
  "accelerator": "GPU",
  "colab": {
   "authorship_tag": "ABX9TyPtXPJyDMBth41So9m9aUCg",
   "gpuType": "T4",
   "include_colab_link": true,
   "provenance": [],
   "toc_visible": true
  },
  "kernelspec": {
   "display_name": "Python 3",
   "name": "python3"
  },
  "language_info": {
   "name": "python"
  }
 },
 "nbformat": 4,
 "nbformat_minor": 0
}
